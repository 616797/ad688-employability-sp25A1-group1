{
 "cells": [
  {
   "cell_type": "code",
   "execution_count": 1,
   "id": "f812025e-af98-4024-ba3a-800af45c8063",
   "metadata": {},
   "outputs": [],
   "source": [
    "import gdown\n",
    "import polars as pl\n",
    "import pandas as pd\n",
    "import plotly.express as px\n",
    "import plotly.graph_objects as go"
   ]
  },
  {
   "cell_type": "code",
   "execution_count": 2,
   "id": "0c58947e-96d5-49d8-9abe-00ef0544ed59",
   "metadata": {},
   "outputs": [
    {
     "name": "stderr",
     "output_type": "stream",
     "text": [
      "Downloading...\n",
      "From (original): https://drive.google.com/uc?id=1V2GCHGt2dkFGqVBeoUFckU4IhUgk4ocQ\n",
      "From (redirected): https://drive.google.com/uc?id=1V2GCHGt2dkFGqVBeoUFckU4IhUgk4ocQ&confirm=t&uuid=805388e9-d119-4aaf-874b-e0318251376a\n",
      "To: C:\\Users\\jtsto\\OneDrive\\Documents\\03 BU SPRING 2025\\AD 688\\Project_03_working_files\\lightcast_jobs_postings.csv\n",
      "100%|██████████| 717M/717M [01:06<00:00, 10.8MB/s] \n"
     ]
    }
   ],
   "source": [
    "drive_loc = 'https://drive.google.com/uc?id=1V2GCHGt2dkFGqVBeoUFckU4IhUgk4ocQ'\n",
    "\n",
    "download_LC = 'lightcast_jobs_postings.csv'\n",
    "gdown.download(drive_loc, download_LC, quiet=False)\n",
    "\n",
    "Jobs = pl.read_csv(download_LC)"
   ]
  },
  {
   "cell_type": "code",
   "execution_count": 20,
   "id": "5587705b-d627-4b18-8f3d-e2b1e95def64",
   "metadata": {},
   "outputs": [
    {
     "name": "stdout",
     "output_type": "stream",
     "text": [
      "['ID', 'LAST_UPDATED_DATE', 'LAST_UPDATED_TIMESTAMP', 'DUPLICATES', 'POSTED', 'EXPIRED', 'DURATION', 'SOURCE_TYPES', 'SOURCES', 'URL', 'ACTIVE_URLS', 'ACTIVE_SOURCES_INFO', 'TITLE_RAW', 'BODY', 'MODELED_EXPIRED', 'MODELED_DURATION', 'COMPANY', 'COMPANY_NAME', 'COMPANY_RAW', 'COMPANY_IS_STAFFING', 'EDUCATION_LEVELS', 'EDUCATION_LEVELS_NAME', 'MIN_EDULEVELS', 'MIN_EDULEVELS_NAME', 'MAX_EDULEVELS', 'MAX_EDULEVELS_NAME', 'EMPLOYMENT_TYPE', 'EMPLOYMENT_TYPE_NAME', 'MIN_YEARS_EXPERIENCE', 'MAX_YEARS_EXPERIENCE', 'IS_INTERNSHIP', 'SALARY', 'REMOTE_TYPE', 'REMOTE_TYPE_NAME', 'ORIGINAL_PAY_PERIOD', 'SALARY_TO', 'SALARY_FROM', 'LOCATION', 'CITY', 'CITY_NAME', 'COUNTY', 'COUNTY_NAME', 'MSA', 'MSA_NAME', 'STATE', 'STATE_NAME', 'COUNTY_OUTGOING', 'COUNTY_NAME_OUTGOING', 'COUNTY_INCOMING', 'COUNTY_NAME_INCOMING', 'MSA_OUTGOING', 'MSA_NAME_OUTGOING', 'MSA_INCOMING', 'MSA_NAME_INCOMING', 'NAICS2', 'NAICS2_NAME', 'NAICS3', 'NAICS3_NAME', 'NAICS4', 'NAICS4_NAME', 'NAICS5', 'NAICS5_NAME', 'NAICS6', 'NAICS6_NAME', 'TITLE', 'TITLE_NAME', 'TITLE_CLEAN', 'SKILLS', 'SKILLS_NAME', 'SPECIALIZED_SKILLS', 'SPECIALIZED_SKILLS_NAME', 'CERTIFICATIONS', 'CERTIFICATIONS_NAME', 'COMMON_SKILLS', 'COMMON_SKILLS_NAME', 'SOFTWARE_SKILLS', 'SOFTWARE_SKILLS_NAME', 'ONET', 'ONET_NAME', 'ONET_2019', 'ONET_2019_NAME', 'CIP6', 'CIP6_NAME', 'CIP4', 'CIP4_NAME', 'CIP2', 'CIP2_NAME', 'SOC_2021_2', 'SOC_2021_2_NAME', 'SOC_2021_3', 'SOC_2021_3_NAME', 'SOC_2021_4', 'SOC_2021_4_NAME', 'SOC_2021_5', 'SOC_2021_5_NAME', 'LOT_CAREER_AREA', 'LOT_CAREER_AREA_NAME', 'LOT_OCCUPATION', 'LOT_OCCUPATION_NAME', 'LOT_SPECIALIZED_OCCUPATION', 'LOT_SPECIALIZED_OCCUPATION_NAME', 'LOT_OCCUPATION_GROUP', 'LOT_OCCUPATION_GROUP_NAME', 'LOT_V6_SPECIALIZED_OCCUPATION', 'LOT_V6_SPECIALIZED_OCCUPATION_NAME', 'LOT_V6_OCCUPATION', 'LOT_V6_OCCUPATION_NAME', 'LOT_V6_OCCUPATION_GROUP', 'LOT_V6_OCCUPATION_GROUP_NAME', 'LOT_V6_CAREER_AREA', 'LOT_V6_CAREER_AREA_NAME', 'SOC_2', 'SOC_2_NAME', 'SOC_3', 'SOC_3_NAME', 'SOC_4', 'SOC_4_NAME', 'SOC_5', 'SOC_5_NAME', 'LIGHTCAST_SECTORS', 'LIGHTCAST_SECTORS_NAME', 'NAICS_2022_2', 'NAICS_2022_2_NAME', 'NAICS_2022_3', 'NAICS_2022_3_NAME', 'NAICS_2022_4', 'NAICS_2022_4_NAME', 'NAICS_2022_5', 'NAICS_2022_5_NAME', 'NAICS_2022_6', 'NAICS_2022_6_NAME']\n"
     ]
    },
    {
     "data": {
      "text/html": [
       "<div><style>\n",
       ".dataframe > thead > tr,\n",
       ".dataframe > tbody > tr {\n",
       "  text-align: right;\n",
       "  white-space: pre-wrap;\n",
       "}\n",
       "</style>\n",
       "<small>shape: (3, 131)</small><table border=\"1\" class=\"dataframe\"><thead><tr><th>ID</th><th>LAST_UPDATED_DATE</th><th>LAST_UPDATED_TIMESTAMP</th><th>DUPLICATES</th><th>POSTED</th><th>EXPIRED</th><th>DURATION</th><th>SOURCE_TYPES</th><th>SOURCES</th><th>URL</th><th>ACTIVE_URLS</th><th>ACTIVE_SOURCES_INFO</th><th>TITLE_RAW</th><th>BODY</th><th>MODELED_EXPIRED</th><th>MODELED_DURATION</th><th>COMPANY</th><th>COMPANY_NAME</th><th>COMPANY_RAW</th><th>COMPANY_IS_STAFFING</th><th>EDUCATION_LEVELS</th><th>EDUCATION_LEVELS_NAME</th><th>MIN_EDULEVELS</th><th>MIN_EDULEVELS_NAME</th><th>MAX_EDULEVELS</th><th>MAX_EDULEVELS_NAME</th><th>EMPLOYMENT_TYPE</th><th>EMPLOYMENT_TYPE_NAME</th><th>MIN_YEARS_EXPERIENCE</th><th>MAX_YEARS_EXPERIENCE</th><th>IS_INTERNSHIP</th><th>SALARY</th><th>REMOTE_TYPE</th><th>REMOTE_TYPE_NAME</th><th>ORIGINAL_PAY_PERIOD</th><th>SALARY_TO</th><th>SALARY_FROM</th><th>&hellip;</th><th>SOC_2021_5_NAME</th><th>LOT_CAREER_AREA</th><th>LOT_CAREER_AREA_NAME</th><th>LOT_OCCUPATION</th><th>LOT_OCCUPATION_NAME</th><th>LOT_SPECIALIZED_OCCUPATION</th><th>LOT_SPECIALIZED_OCCUPATION_NAME</th><th>LOT_OCCUPATION_GROUP</th><th>LOT_OCCUPATION_GROUP_NAME</th><th>LOT_V6_SPECIALIZED_OCCUPATION</th><th>LOT_V6_SPECIALIZED_OCCUPATION_NAME</th><th>LOT_V6_OCCUPATION</th><th>LOT_V6_OCCUPATION_NAME</th><th>LOT_V6_OCCUPATION_GROUP</th><th>LOT_V6_OCCUPATION_GROUP_NAME</th><th>LOT_V6_CAREER_AREA</th><th>LOT_V6_CAREER_AREA_NAME</th><th>SOC_2</th><th>SOC_2_NAME</th><th>SOC_3</th><th>SOC_3_NAME</th><th>SOC_4</th><th>SOC_4_NAME</th><th>SOC_5</th><th>SOC_5_NAME</th><th>LIGHTCAST_SECTORS</th><th>LIGHTCAST_SECTORS_NAME</th><th>NAICS_2022_2</th><th>NAICS_2022_2_NAME</th><th>NAICS_2022_3</th><th>NAICS_2022_3_NAME</th><th>NAICS_2022_4</th><th>NAICS_2022_4_NAME</th><th>NAICS_2022_5</th><th>NAICS_2022_5_NAME</th><th>NAICS_2022_6</th><th>NAICS_2022_6_NAME</th></tr><tr><td>str</td><td>str</td><td>str</td><td>i64</td><td>str</td><td>str</td><td>i64</td><td>str</td><td>str</td><td>str</td><td>str</td><td>str</td><td>str</td><td>str</td><td>str</td><td>i64</td><td>i64</td><td>str</td><td>str</td><td>bool</td><td>str</td><td>str</td><td>i64</td><td>str</td><td>i64</td><td>str</td><td>i64</td><td>str</td><td>i64</td><td>i64</td><td>bool</td><td>i64</td><td>i64</td><td>str</td><td>str</td><td>i64</td><td>i64</td><td>&hellip;</td><td>str</td><td>i64</td><td>str</td><td>i64</td><td>str</td><td>i64</td><td>str</td><td>i64</td><td>str</td><td>i64</td><td>str</td><td>i64</td><td>str</td><td>i64</td><td>str</td><td>i64</td><td>str</td><td>str</td><td>str</td><td>str</td><td>str</td><td>str</td><td>str</td><td>str</td><td>str</td><td>str</td><td>str</td><td>i64</td><td>str</td><td>i64</td><td>str</td><td>i64</td><td>str</td><td>i64</td><td>str</td><td>i64</td><td>str</td></tr></thead><tbody><tr><td>&quot;1f57d95acf4dc67ed2819eb12f049f…</td><td>&quot;9/6/2024&quot;</td><td>&quot;2024-09-06 20:32:57.352 Z&quot;</td><td>0</td><td>&quot;6/2/2024&quot;</td><td>&quot;6/8/2024&quot;</td><td>6</td><td>&quot;[\n",
       "&nbsp;&nbsp;&quot;Company&quot;\n",
       "]&quot;</td><td>&quot;[\n",
       "&nbsp;&nbsp;&quot;brassring.com&quot;\n",
       "]&quot;</td><td>&quot;[\n",
       "&nbsp;&nbsp;&quot;https://sjobs.brassring.c…</td><td>&quot;[]&quot;</td><td>null</td><td>&quot;Enterprise Analyst (II-III)&quot;</td><td>&quot;31-May-2024\n",
       "\n",
       "Enterprise Analys…</td><td>&quot;6/8/2024&quot;</td><td>6</td><td>894731</td><td>&quot;Murphy USA&quot;</td><td>&quot;Murphy USA&quot;</td><td>false</td><td>&quot;[\n",
       "&nbsp;&nbsp;2\n",
       "]&quot;</td><td>&quot;[\n",
       "&nbsp;&nbsp;&quot;Bachelor&#x27;s degree&quot;\n",
       "]&quot;</td><td>2</td><td>&quot;Bachelor&#x27;s degree&quot;</td><td>null</td><td>null</td><td>1</td><td>&quot;Full-time (&gt; 32 hours)&quot;</td><td>2</td><td>2</td><td>false</td><td>null</td><td>0</td><td>&quot;[None]&quot;</td><td>null</td><td>null</td><td>null</td><td>&hellip;</td><td>&quot;Data Scientists&quot;</td><td>23</td><td>&quot;Information Technology and Com…</td><td>231010</td><td>&quot;Business Intelligence Analyst&quot;</td><td>23101011</td><td>&quot;General ERP Analyst / Consulta…</td><td>2310</td><td>&quot;Business Intelligence&quot;</td><td>23101011</td><td>&quot;General ERP Analyst / Consulta…</td><td>231010</td><td>&quot;Business Intelligence Analyst&quot;</td><td>2310</td><td>&quot;Business Intelligence&quot;</td><td>23</td><td>&quot;Information Technology and Com…</td><td>&quot;15-0000&quot;</td><td>&quot;Computer and Mathematical Occu…</td><td>&quot;15-2000&quot;</td><td>&quot;Mathematical Science Occupatio…</td><td>&quot;15-2050&quot;</td><td>&quot;Data Scientists&quot;</td><td>&quot;15-2051&quot;</td><td>&quot;Data Scientists&quot;</td><td>&quot;[\n",
       "&nbsp;&nbsp;7\n",
       "]&quot;</td><td>&quot;[\n",
       "&nbsp;&nbsp;&quot;Artificial Intelligence&quot;\n",
       "…</td><td>44</td><td>&quot;Retail Trade&quot;</td><td>441</td><td>&quot;Motor Vehicle and Parts Dealer…</td><td>4413</td><td>&quot;Automotive Parts, Accessories,…</td><td>44133</td><td>&quot;Automotive Parts and Accessori…</td><td>441330</td><td>&quot;Automotive Parts and Accessori…</td></tr><tr><td>&quot;0cb072af26757b6c4ea9464472a50a…</td><td>&quot;8/2/2024&quot;</td><td>&quot;2024-08-02 17:08:58.838 Z&quot;</td><td>0</td><td>&quot;6/2/2024&quot;</td><td>&quot;8/1/2024&quot;</td><td>null</td><td>&quot;[\n",
       "&nbsp;&nbsp;&quot;Job Board&quot;\n",
       "]&quot;</td><td>&quot;[\n",
       "&nbsp;&nbsp;&quot;maine.gov&quot;\n",
       "]&quot;</td><td>&quot;[\n",
       "&nbsp;&nbsp;&quot;https://joblink.maine.gov…</td><td>&quot;[]&quot;</td><td>null</td><td>&quot;Oracle Consultant - Reports (3…</td><td>&quot;Oracle Consultant - Reports (3…</td><td>&quot;8/1/2024&quot;</td><td>null</td><td>133098</td><td>&quot;Smx Corporation Limited&quot;</td><td>&quot;SMX&quot;</td><td>true</td><td>&quot;[\n",
       "&nbsp;&nbsp;99\n",
       "]&quot;</td><td>&quot;[\n",
       "&nbsp;&nbsp;&quot;No Education Listed&quot;\n",
       "]&quot;</td><td>99</td><td>&quot;No Education Listed&quot;</td><td>null</td><td>null</td><td>1</td><td>&quot;Full-time (&gt; 32 hours)&quot;</td><td>3</td><td>3</td><td>false</td><td>null</td><td>1</td><td>&quot;Remote&quot;</td><td>null</td><td>null</td><td>null</td><td>&hellip;</td><td>&quot;Data Scientists&quot;</td><td>23</td><td>&quot;Information Technology and Com…</td><td>231010</td><td>&quot;Business Intelligence Analyst&quot;</td><td>23101012</td><td>&quot;Oracle Consultant / Analyst&quot;</td><td>2310</td><td>&quot;Business Intelligence&quot;</td><td>23101012</td><td>&quot;Oracle Consultant / Analyst&quot;</td><td>231010</td><td>&quot;Business Intelligence Analyst&quot;</td><td>2310</td><td>&quot;Business Intelligence&quot;</td><td>23</td><td>&quot;Information Technology and Com…</td><td>&quot;15-0000&quot;</td><td>&quot;Computer and Mathematical Occu…</td><td>&quot;15-2000&quot;</td><td>&quot;Mathematical Science Occupatio…</td><td>&quot;15-2050&quot;</td><td>&quot;Data Scientists&quot;</td><td>&quot;15-2051&quot;</td><td>&quot;Data Scientists&quot;</td><td>null</td><td>null</td><td>56</td><td>&quot;Administrative and Support and…</td><td>561</td><td>&quot;Administrative and Support Ser…</td><td>5613</td><td>&quot;Employment Services&quot;</td><td>56132</td><td>&quot;Temporary Help Services&quot;</td><td>561320</td><td>&quot;Temporary Help Services&quot;</td></tr><tr><td>&quot;85318b12b3331fa490d32ad014379d…</td><td>&quot;9/6/2024&quot;</td><td>&quot;2024-09-06 20:32:57.352 Z&quot;</td><td>1</td><td>&quot;6/2/2024&quot;</td><td>&quot;7/7/2024&quot;</td><td>35</td><td>&quot;[\n",
       "&nbsp;&nbsp;&quot;Job Board&quot;\n",
       "]&quot;</td><td>&quot;[\n",
       "&nbsp;&nbsp;&quot;dejobs.org&quot;\n",
       "]&quot;</td><td>&quot;[\n",
       "&nbsp;&nbsp;&quot;https://dejobs.org/dallas…</td><td>&quot;[]&quot;</td><td>null</td><td>&quot;Data Analyst&quot;</td><td>&quot;Taking care of people is at th…</td><td>&quot;6/10/2024&quot;</td><td>8</td><td>39063746</td><td>&quot;Sedgwick&quot;</td><td>&quot;Sedgwick&quot;</td><td>false</td><td>&quot;[\n",
       "&nbsp;&nbsp;2\n",
       "]&quot;</td><td>&quot;[\n",
       "&nbsp;&nbsp;&quot;Bachelor&#x27;s degree&quot;\n",
       "]&quot;</td><td>2</td><td>&quot;Bachelor&#x27;s degree&quot;</td><td>null</td><td>null</td><td>1</td><td>&quot;Full-time (&gt; 32 hours)&quot;</td><td>5</td><td>null</td><td>false</td><td>null</td><td>0</td><td>&quot;[None]&quot;</td><td>null</td><td>null</td><td>null</td><td>&hellip;</td><td>&quot;Data Scientists&quot;</td><td>23</td><td>&quot;Information Technology and Com…</td><td>231113</td><td>&quot;Data / Data Mining Analyst&quot;</td><td>23111310</td><td>&quot;Data Analyst&quot;</td><td>2311</td><td>&quot;Data Analysis and Mathematics&quot;</td><td>23111310</td><td>&quot;Data Analyst&quot;</td><td>231113</td><td>&quot;Data / Data Mining Analyst&quot;</td><td>2311</td><td>&quot;Data Analysis and Mathematics&quot;</td><td>23</td><td>&quot;Information Technology and Com…</td><td>&quot;15-0000&quot;</td><td>&quot;Computer and Mathematical Occu…</td><td>&quot;15-2000&quot;</td><td>&quot;Mathematical Science Occupatio…</td><td>&quot;15-2050&quot;</td><td>&quot;Data Scientists&quot;</td><td>&quot;15-2051&quot;</td><td>&quot;Data Scientists&quot;</td><td>null</td><td>null</td><td>52</td><td>&quot;Finance and Insurance&quot;</td><td>524</td><td>&quot;Insurance Carriers and Related…</td><td>5242</td><td>&quot;Agencies, Brokerages, and Othe…</td><td>52429</td><td>&quot;Other Insurance Related Activi…</td><td>524291</td><td>&quot;Claims Adjusting&quot;</td></tr></tbody></table></div>"
      ],
      "text/plain": [
       "shape: (3, 131)\n",
       "┌───────────┬───────────┬───────────┬───────────┬───┬───────────┬───────────┬───────────┬──────────┐\n",
       "│ ID        ┆ LAST_UPDA ┆ LAST_UPDA ┆ DUPLICATE ┆ … ┆ NAICS_202 ┆ NAICS_202 ┆ NAICS_202 ┆ NAICS_20 │\n",
       "│ ---       ┆ TED_DATE  ┆ TED_TIMES ┆ S         ┆   ┆ 2_5       ┆ 2_5_NAME  ┆ 2_6       ┆ 22_6_NAM │\n",
       "│ str       ┆ ---       ┆ TAMP      ┆ ---       ┆   ┆ ---       ┆ ---       ┆ ---       ┆ E        │\n",
       "│           ┆ str       ┆ ---       ┆ i64       ┆   ┆ i64       ┆ str       ┆ i64       ┆ ---      │\n",
       "│           ┆           ┆ str       ┆           ┆   ┆           ┆           ┆           ┆ str      │\n",
       "╞═══════════╪═══════════╪═══════════╪═══════════╪═══╪═══════════╪═══════════╪═══════════╪══════════╡\n",
       "│ 1f57d95ac ┆ 9/6/2024  ┆ 2024-09-0 ┆ 0         ┆ … ┆ 44133     ┆ Automotiv ┆ 441330    ┆ Automoti │\n",
       "│ f4dc67ed2 ┆           ┆ 6 20:32:5 ┆           ┆   ┆           ┆ e Parts   ┆           ┆ ve Parts │\n",
       "│ 819eb12f0 ┆           ┆ 7.352 Z   ┆           ┆   ┆           ┆ and Acces ┆           ┆ and Acce │\n",
       "│ 49f…      ┆           ┆           ┆           ┆   ┆           ┆ sori…     ┆           ┆ ssori…   │\n",
       "│ 0cb072af2 ┆ 8/2/2024  ┆ 2024-08-0 ┆ 0         ┆ … ┆ 56132     ┆ Temporary ┆ 561320    ┆ Temporar │\n",
       "│ 6757b6c4e ┆           ┆ 2 17:08:5 ┆           ┆   ┆           ┆ Help      ┆           ┆ y Help   │\n",
       "│ a9464472a ┆           ┆ 8.838 Z   ┆           ┆   ┆           ┆ Services  ┆           ┆ Services │\n",
       "│ 50a…      ┆           ┆           ┆           ┆   ┆           ┆           ┆           ┆          │\n",
       "│ 85318b12b ┆ 9/6/2024  ┆ 2024-09-0 ┆ 1         ┆ … ┆ 52429     ┆ Other     ┆ 524291    ┆ Claims   │\n",
       "│ 3331fa490 ┆           ┆ 6 20:32:5 ┆           ┆   ┆           ┆ Insurance ┆           ┆ Adjustin │\n",
       "│ d32ad0143 ┆           ┆ 7.352 Z   ┆           ┆   ┆           ┆ Related   ┆           ┆ g        │\n",
       "│ 79d…      ┆           ┆           ┆           ┆   ┆           ┆ Activi…   ┆           ┆          │\n",
       "└───────────┴───────────┴───────────┴───────────┴───┴───────────┴───────────┴───────────┴──────────┘"
      ]
     },
     "execution_count": 20,
     "metadata": {},
     "output_type": "execute_result"
    }
   ],
   "source": [
    "print(Jobs.columns)\n",
    "Jobs.select(Jobs.columns).head(3)"
   ]
  },
  {
   "cell_type": "code",
   "execution_count": 21,
   "id": "3ea31107-e468-4192-9046-f3590c1cbd0b",
   "metadata": {},
   "outputs": [
    {
     "name": "stdout",
     "output_type": "stream",
     "text": [
      "SKILLS_NAME: 44173 unique values\n",
      "SPECIALIZED_SKILLS_NAME: 41462 unique values\n",
      "CERTIFICATIONS_NAME: 1590 unique values\n",
      "COMMON_SKILLS_NAME: 29574 unique values\n",
      "SOFTWARE_SKILLS_NAME: 22456 unique values\n"
     ]
    }
   ],
   "source": [
    "columns_to_check = [\n",
    "    'SKILLS_NAME',\n",
    "    'SPECIALIZED_SKILLS_NAME',\n",
    "    'CERTIFICATIONS_NAME',\n",
    "    'COMMON_SKILLS_NAME',\n",
    "    'SOFTWARE_SKILLS_NAME'\n",
    "]\n",
    "\n",
    "for col in columns_to_check:\n",
    "    unique_count = Jobs.select(pl.col(col).n_unique()).item()\n",
    "    print(f\"{col}: {unique_count} unique values\")"
   ]
  },
  {
   "cell_type": "code",
   "execution_count": 22,
   "id": "261d0984-9a2b-4fab-8879-44a5290347de",
   "metadata": {},
   "outputs": [],
   "source": [
    "Jobs_cleaned = Jobs.with_columns([\n",
    "    pl.when((pl.col(col) == '') | (pl.col(col) == '[]'))\n",
    "      .then(None)\n",
    "      .otherwise(pl.col(col))\n",
    "      .alias(col)\n",
    "    for col in columns_to_check\n",
    "])"
   ]
  },
  {
   "cell_type": "code",
   "execution_count": 23,
   "id": "604aac9b-40e1-4eee-9f62-6eb5bbbc0fc8",
   "metadata": {},
   "outputs": [
    {
     "name": "stdout",
     "output_type": "stream",
     "text": [
      "SKILLS_NAME: 567 missing values\n",
      "SPECIALIZED_SKILLS_NAME: 936 missing values\n",
      "CERTIFICATIONS_NAME: 59117 missing values\n",
      "COMMON_SKILLS_NAME: 5928 missing values\n",
      "SOFTWARE_SKILLS_NAME: 9515 missing values\n"
     ]
    }
   ],
   "source": [
    "for col in columns_to_check:\n",
    "    missing_count = Jobs_cleaned.filter(\n",
    "        pl.col(col).is_null()\n",
    "    ).height\n",
    "    print(f\"{col}: {missing_count} missing values\")"
   ]
  },
  {
   "cell_type": "code",
   "execution_count": 24,
   "id": "38ce090d-d2eb-402e-9bee-0530a8af9130",
   "metadata": {},
   "outputs": [
    {
     "name": "stdout",
     "output_type": "stream",
     "text": [
      "\n",
      "Top 5 for SKILLS_NAME:\n",
      "shape: (5, 2)\n",
      "┌───────────────────────────────┬───────┐\n",
      "│ SKILLS_NAME                   ┆ count │\n",
      "│ ---                           ┆ ---   │\n",
      "│ str                           ┆ u32   │\n",
      "╞═══════════════════════════════╪═══════╡\n",
      "│ null                          ┆ 567   │\n",
      "│ [                             ┆ 376   │\n",
      "│   \"User Experience (UX) Desi… ┆       │\n",
      "│ [                             ┆ 279   │\n",
      "│   \"Cloud Computing\",          ┆       │\n",
      "│   \"Ente…                      ┆       │\n",
      "│ [                             ┆ 270   │\n",
      "│   \"Pivot Tables And Charts\",… ┆       │\n",
      "│ [                             ┆ 152   │\n",
      "│   \"Data Analysis\"             ┆       │\n",
      "│ ]                             ┆       │\n",
      "└───────────────────────────────┴───────┘\n",
      "\n",
      "Top 5 for SPECIALIZED_SKILLS_NAME:\n",
      "shape: (5, 2)\n",
      "┌───────────────────────────────┬───────┐\n",
      "│ SPECIALIZED_SKILLS_NAME       ┆ count │\n",
      "│ ---                           ┆ ---   │\n",
      "│ str                           ┆ u32   │\n",
      "╞═══════════════════════════════╪═══════╡\n",
      "│ null                          ┆ 936   │\n",
      "│ [                             ┆ 376   │\n",
      "│   \"User Experience (UX) Desi… ┆       │\n",
      "│ [                             ┆ 301   │\n",
      "│   \"Pivot Tables And Charts\",… ┆       │\n",
      "│ [                             ┆ 279   │\n",
      "│   \"Cloud Computing\",          ┆       │\n",
      "│   \"Ente…                      ┆       │\n",
      "│ [                             ┆ 265   │\n",
      "│   \"Data Analysis\"             ┆       │\n",
      "│ ]                             ┆       │\n",
      "└───────────────────────────────┴───────┘\n",
      "\n",
      "Top 5 for CERTIFICATIONS_NAME:\n",
      "shape: (5, 2)\n",
      "┌───────────────────────────────┬───────┐\n",
      "│ CERTIFICATIONS_NAME           ┆ count │\n",
      "│ ---                           ┆ ---   │\n",
      "│ str                           ┆ u32   │\n",
      "╞═══════════════════════════════╪═══════╡\n",
      "│ null                          ┆ 59117 │\n",
      "│ [                             ┆ 1057  │\n",
      "│   \"Master Of Business Admini… ┆       │\n",
      "│ [                             ┆ 887   │\n",
      "│   \"Valid Driver's License\"    ┆       │\n",
      "│ ]                             ┆       │\n",
      "│ [                             ┆ 857   │\n",
      "│   \"Security Clearance\"        ┆       │\n",
      "│ ]                             ┆       │\n",
      "│ [                             ┆ 601   │\n",
      "│   \"Secret Clearance\"          ┆       │\n",
      "│ ]                             ┆       │\n",
      "└───────────────────────────────┴───────┘\n",
      "\n",
      "Top 5 for COMMON_SKILLS_NAME:\n",
      "shape: (5, 2)\n",
      "┌───────────────────────────────┬───────┐\n",
      "│ COMMON_SKILLS_NAME            ┆ count │\n",
      "│ ---                           ┆ ---   │\n",
      "│ str                           ┆ u32   │\n",
      "╞═══════════════════════════════╪═══════╡\n",
      "│ null                          ┆ 5928  │\n",
      "│ [                             ┆ 615   │\n",
      "│   \"Communication\"             ┆       │\n",
      "│ ]                             ┆       │\n",
      "│ [                             ┆ 586   │\n",
      "│   \"Management\"                ┆       │\n",
      "│ ]                             ┆       │\n",
      "│ [                             ┆ 565   │\n",
      "│   \"Consulting\"                ┆       │\n",
      "│ ]                             ┆       │\n",
      "│ [                             ┆ 305   │\n",
      "│   \"Troubleshooting (Problem … ┆       │\n",
      "└───────────────────────────────┴───────┘\n",
      "\n",
      "Top 5 for SOFTWARE_SKILLS_NAME:\n",
      "shape: (5, 2)\n",
      "┌──────────────────────┬───────┐\n",
      "│ SOFTWARE_SKILLS_NAME ┆ count │\n",
      "│ ---                  ┆ ---   │\n",
      "│ str                  ┆ u32   │\n",
      "╞══════════════════════╪═══════╡\n",
      "│ null                 ┆ 9515  │\n",
      "│ [                    ┆ 1044  │\n",
      "│   \"SAP Applications\" ┆       │\n",
      "│ ]                    ┆       │\n",
      "│ [                    ┆ 811   │\n",
      "│   \"Oracle Cloud\"     ┆       │\n",
      "│ ]                    ┆       │\n",
      "│ [                    ┆ 777   │\n",
      "│   \"Microsoft Office\" ┆       │\n",
      "│ ]                    ┆       │\n",
      "│ [                    ┆ 503   │\n",
      "│   \"Dashboard\"        ┆       │\n",
      "│ ]                    ┆       │\n",
      "└──────────────────────┴───────┘\n"
     ]
    }
   ],
   "source": [
    "for col in columns_to_check:\n",
    "    print(f\"\\nTop 5 for {col}:\")\n",
    "    top_5 = (\n",
    "        Jobs_cleaned.group_by(col)\n",
    "            .agg(pl.len().alias('count'))\n",
    "            .sort('count', descending=True)\n",
    "            .select([col, 'count'])\n",
    "            .head(5)\n",
    "    )\n",
    "    print(top_5)"
   ]
  },
  {
   "cell_type": "code",
   "execution_count": 25,
   "id": "bec88546-74bb-429c-b61f-3c57f35377d3",
   "metadata": {},
   "outputs": [
    {
     "name": "stdout",
     "output_type": "stream",
     "text": [
      "shape: (5, 2)\n",
      "┌───────────────────────────────┬───────┐\n",
      "│ SKILLS_NAME                   ┆ count │\n",
      "│ ---                           ┆ ---   │\n",
      "│ str                           ┆ u32   │\n",
      "╞═══════════════════════════════╪═══════╡\n",
      "│ [                             ┆ 376   │\n",
      "│   \"User Experience (UX) Desi… ┆       │\n",
      "│ [                             ┆ 279   │\n",
      "│   \"Cloud Computing\",          ┆       │\n",
      "│   \"Ente…                      ┆       │\n",
      "│ [                             ┆ 270   │\n",
      "│   \"Pivot Tables And Charts\",… ┆       │\n",
      "│ [                             ┆ 152   │\n",
      "│   \"Data Analysis\"             ┆       │\n",
      "│ ]                             ┆       │\n",
      "│ [                             ┆ 112   │\n",
      "│   \"Management\",               ┆       │\n",
      "│   \"Microsoft…                 ┆       │\n",
      "└───────────────────────────────┴───────┘\n",
      "shape: (5, 2)\n",
      "┌───────────────────────────────┬───────┐\n",
      "│ SPECIALIZED_SKILLS_NAME       ┆ count │\n",
      "│ ---                           ┆ ---   │\n",
      "│ str                           ┆ u32   │\n",
      "╞═══════════════════════════════╪═══════╡\n",
      "│ [                             ┆ 376   │\n",
      "│   \"User Experience (UX) Desi… ┆       │\n",
      "│ [                             ┆ 301   │\n",
      "│   \"Pivot Tables And Charts\",… ┆       │\n",
      "│ [                             ┆ 279   │\n",
      "│   \"Cloud Computing\",          ┆       │\n",
      "│   \"Ente…                      ┆       │\n",
      "│ [                             ┆ 265   │\n",
      "│   \"Data Analysis\"             ┆       │\n",
      "│ ]                             ┆       │\n",
      "│ [                             ┆ 151   │\n",
      "│   \"Emergency Response\"        ┆       │\n",
      "│ ]                             ┆       │\n",
      "└───────────────────────────────┴───────┘\n",
      "shape: (5, 2)\n",
      "┌───────────────────────────────┬───────┐\n",
      "│ CERTIFICATIONS_NAME           ┆ count │\n",
      "│ ---                           ┆ ---   │\n",
      "│ str                           ┆ u32   │\n",
      "╞═══════════════════════════════╪═══════╡\n",
      "│ [                             ┆ 1057  │\n",
      "│   \"Master Of Business Admini… ┆       │\n",
      "│ [                             ┆ 887   │\n",
      "│   \"Valid Driver's License\"    ┆       │\n",
      "│ ]                             ┆       │\n",
      "│ [                             ┆ 857   │\n",
      "│   \"Security Clearance\"        ┆       │\n",
      "│ ]                             ┆       │\n",
      "│ [                             ┆ 601   │\n",
      "│   \"Secret Clearance\"          ┆       │\n",
      "│ ]                             ┆       │\n",
      "│ [                             ┆ 588   │\n",
      "│   \"SAP Certification\"         ┆       │\n",
      "│ ]                             ┆       │\n",
      "└───────────────────────────────┴───────┘\n",
      "shape: (5, 2)\n",
      "┌───────────────────────────────┬───────┐\n",
      "│ COMMON_SKILLS_NAME            ┆ count │\n",
      "│ ---                           ┆ ---   │\n",
      "│ str                           ┆ u32   │\n",
      "╞═══════════════════════════════╪═══════╡\n",
      "│ [                             ┆ 615   │\n",
      "│   \"Communication\"             ┆       │\n",
      "│ ]                             ┆       │\n",
      "│ [                             ┆ 586   │\n",
      "│   \"Management\"                ┆       │\n",
      "│ ]                             ┆       │\n",
      "│ [                             ┆ 565   │\n",
      "│   \"Consulting\"                ┆       │\n",
      "│ ]                             ┆       │\n",
      "│ [                             ┆ 305   │\n",
      "│   \"Troubleshooting (Problem … ┆       │\n",
      "│ [                             ┆ 279   │\n",
      "│   \"Planning\",                 ┆       │\n",
      "│   \"Analytical …               ┆       │\n",
      "└───────────────────────────────┴───────┘\n",
      "shape: (5, 2)\n",
      "┌───────────────────────────────┬───────┐\n",
      "│ SOFTWARE_SKILLS_NAME          ┆ count │\n",
      "│ ---                           ┆ ---   │\n",
      "│ str                           ┆ u32   │\n",
      "╞═══════════════════════════════╪═══════╡\n",
      "│ [                             ┆ 1044  │\n",
      "│   \"SAP Applications\"          ┆       │\n",
      "│ ]                             ┆       │\n",
      "│ [                             ┆ 811   │\n",
      "│   \"Oracle Cloud\"              ┆       │\n",
      "│ ]                             ┆       │\n",
      "│ [                             ┆ 777   │\n",
      "│   \"Microsoft Office\"          ┆       │\n",
      "│ ]                             ┆       │\n",
      "│ [                             ┆ 503   │\n",
      "│   \"Dashboard\"                 ┆       │\n",
      "│ ]                             ┆       │\n",
      "│ [                             ┆ 444   │\n",
      "│   \"SQL (Programming Language… ┆       │\n",
      "└───────────────────────────────┴───────┘\n"
     ]
    }
   ],
   "source": [
    "plots = {}\n",
    "\n",
    "for col in columns_to_check:\n",
    "    top_6 = (\n",
    "        Jobs_cleaned.group_by(col)\n",
    "            .agg(pl.len().alias('count'))\n",
    "            .sort('count', descending=True)\n",
    "            .select([col, 'count'])\n",
    "            .head(6)\n",
    "    )\n",
    "\n",
    "    top_5_excl_null = top_6.slice(1, 5)\n",
    "    print(top_5_excl_null)\n",
    "    \n",
    "    fig = px.bar(\n",
    "        top_5_excl_null.to_pandas(),\n",
    "        x=col,\n",
    "        y=\"count\",\n",
    "        color=col,\n",
    "        title=f\"Top 5 Most Common (excluding null): {col}\",\n",
    "        labels={col: col.replace('_', ' ').title(), \"count\": \"Count\"},\n",
    "    )\n",
    "    fig.update_layout(\n",
    "    xaxis_tickangle=-45,\n",
    "    width=1200,\n",
    "    margin=dict(b=150),\n",
    "    showlegend=False \n",
    "    )\n",
    "\n",
    "    plots[col] = fig"
   ]
  },
  {
   "cell_type": "code",
   "execution_count": 26,
   "id": "24ec27a0-9622-4019-80a2-7ae837531793",
   "metadata": {},
   "outputs": [
    {
     "data": {
      "application/vnd.plotly.v1+json": {
       "config": {
        "plotlyServerURL": "https://plot.ly"
       },
       "data": [
        {
         "alignmentgroup": "True",
         "hovertemplate": "Certifications Name=%{x}<br>Count=%{y}<extra></extra>",
         "legendgroup": "[\n  \"Master Of Business Administration (MBA)\"\n]",
         "marker": {
          "color": "#636efa",
          "pattern": {
           "shape": ""
          }
         },
         "name": "[\n  \"Master Of Business Administration (MBA)\"\n]",
         "offsetgroup": "[\n  \"Master Of Business Administration (MBA)\"\n]",
         "orientation": "v",
         "showlegend": true,
         "textposition": "auto",
         "type": "bar",
         "x": [
          "[\n  \"Master Of Business Administration (MBA)\"\n]"
         ],
         "xaxis": "x",
         "y": [
          1057
         ],
         "yaxis": "y"
        },
        {
         "alignmentgroup": "True",
         "hovertemplate": "Certifications Name=%{x}<br>Count=%{y}<extra></extra>",
         "legendgroup": "[\n  \"Valid Driver's License\"\n]",
         "marker": {
          "color": "#EF553B",
          "pattern": {
           "shape": ""
          }
         },
         "name": "[\n  \"Valid Driver's License\"\n]",
         "offsetgroup": "[\n  \"Valid Driver's License\"\n]",
         "orientation": "v",
         "showlegend": true,
         "textposition": "auto",
         "type": "bar",
         "x": [
          "[\n  \"Valid Driver's License\"\n]"
         ],
         "xaxis": "x",
         "y": [
          887
         ],
         "yaxis": "y"
        },
        {
         "alignmentgroup": "True",
         "hovertemplate": "Certifications Name=%{x}<br>Count=%{y}<extra></extra>",
         "legendgroup": "[\n  \"Security Clearance\"\n]",
         "marker": {
          "color": "#00cc96",
          "pattern": {
           "shape": ""
          }
         },
         "name": "[\n  \"Security Clearance\"\n]",
         "offsetgroup": "[\n  \"Security Clearance\"\n]",
         "orientation": "v",
         "showlegend": true,
         "textposition": "auto",
         "type": "bar",
         "x": [
          "[\n  \"Security Clearance\"\n]"
         ],
         "xaxis": "x",
         "y": [
          857
         ],
         "yaxis": "y"
        },
        {
         "alignmentgroup": "True",
         "hovertemplate": "Certifications Name=%{x}<br>Count=%{y}<extra></extra>",
         "legendgroup": "[\n  \"Secret Clearance\"\n]",
         "marker": {
          "color": "#ab63fa",
          "pattern": {
           "shape": ""
          }
         },
         "name": "[\n  \"Secret Clearance\"\n]",
         "offsetgroup": "[\n  \"Secret Clearance\"\n]",
         "orientation": "v",
         "showlegend": true,
         "textposition": "auto",
         "type": "bar",
         "x": [
          "[\n  \"Secret Clearance\"\n]"
         ],
         "xaxis": "x",
         "y": [
          601
         ],
         "yaxis": "y"
        },
        {
         "alignmentgroup": "True",
         "hovertemplate": "Certifications Name=%{x}<br>Count=%{y}<extra></extra>",
         "legendgroup": "[\n  \"SAP Certification\"\n]",
         "marker": {
          "color": "#FFA15A",
          "pattern": {
           "shape": ""
          }
         },
         "name": "[\n  \"SAP Certification\"\n]",
         "offsetgroup": "[\n  \"SAP Certification\"\n]",
         "orientation": "v",
         "showlegend": true,
         "textposition": "auto",
         "type": "bar",
         "x": [
          "[\n  \"SAP Certification\"\n]"
         ],
         "xaxis": "x",
         "y": [
          588
         ],
         "yaxis": "y"
        }
       ],
       "layout": {
        "barmode": "relative",
        "height": 360,
        "legend": {
         "title": {
          "text": "Certifications Name"
         },
         "tracegroupgap": 0
        },
        "margin": {
         "b": 150
        },
        "showlegend": false,
        "template": {
         "data": {
          "bar": [
           {
            "error_x": {
             "color": "#2a3f5f"
            },
            "error_y": {
             "color": "#2a3f5f"
            },
            "marker": {
             "line": {
              "color": "#E5ECF6",
              "width": 0.5
             },
             "pattern": {
              "fillmode": "overlay",
              "size": 10,
              "solidity": 0.2
             }
            },
            "type": "bar"
           }
          ],
          "barpolar": [
           {
            "marker": {
             "line": {
              "color": "#E5ECF6",
              "width": 0.5
             },
             "pattern": {
              "fillmode": "overlay",
              "size": 10,
              "solidity": 0.2
             }
            },
            "type": "barpolar"
           }
          ],
          "carpet": [
           {
            "aaxis": {
             "endlinecolor": "#2a3f5f",
             "gridcolor": "white",
             "linecolor": "white",
             "minorgridcolor": "white",
             "startlinecolor": "#2a3f5f"
            },
            "baxis": {
             "endlinecolor": "#2a3f5f",
             "gridcolor": "white",
             "linecolor": "white",
             "minorgridcolor": "white",
             "startlinecolor": "#2a3f5f"
            },
            "type": "carpet"
           }
          ],
          "choropleth": [
           {
            "colorbar": {
             "outlinewidth": 0,
             "ticks": ""
            },
            "type": "choropleth"
           }
          ],
          "contour": [
           {
            "colorbar": {
             "outlinewidth": 0,
             "ticks": ""
            },
            "colorscale": [
             [
              0,
              "#0d0887"
             ],
             [
              0.1111111111111111,
              "#46039f"
             ],
             [
              0.2222222222222222,
              "#7201a8"
             ],
             [
              0.3333333333333333,
              "#9c179e"
             ],
             [
              0.4444444444444444,
              "#bd3786"
             ],
             [
              0.5555555555555556,
              "#d8576b"
             ],
             [
              0.6666666666666666,
              "#ed7953"
             ],
             [
              0.7777777777777778,
              "#fb9f3a"
             ],
             [
              0.8888888888888888,
              "#fdca26"
             ],
             [
              1,
              "#f0f921"
             ]
            ],
            "type": "contour"
           }
          ],
          "contourcarpet": [
           {
            "colorbar": {
             "outlinewidth": 0,
             "ticks": ""
            },
            "type": "contourcarpet"
           }
          ],
          "heatmap": [
           {
            "colorbar": {
             "outlinewidth": 0,
             "ticks": ""
            },
            "colorscale": [
             [
              0,
              "#0d0887"
             ],
             [
              0.1111111111111111,
              "#46039f"
             ],
             [
              0.2222222222222222,
              "#7201a8"
             ],
             [
              0.3333333333333333,
              "#9c179e"
             ],
             [
              0.4444444444444444,
              "#bd3786"
             ],
             [
              0.5555555555555556,
              "#d8576b"
             ],
             [
              0.6666666666666666,
              "#ed7953"
             ],
             [
              0.7777777777777778,
              "#fb9f3a"
             ],
             [
              0.8888888888888888,
              "#fdca26"
             ],
             [
              1,
              "#f0f921"
             ]
            ],
            "type": "heatmap"
           }
          ],
          "heatmapgl": [
           {
            "colorbar": {
             "outlinewidth": 0,
             "ticks": ""
            },
            "colorscale": [
             [
              0,
              "#0d0887"
             ],
             [
              0.1111111111111111,
              "#46039f"
             ],
             [
              0.2222222222222222,
              "#7201a8"
             ],
             [
              0.3333333333333333,
              "#9c179e"
             ],
             [
              0.4444444444444444,
              "#bd3786"
             ],
             [
              0.5555555555555556,
              "#d8576b"
             ],
             [
              0.6666666666666666,
              "#ed7953"
             ],
             [
              0.7777777777777778,
              "#fb9f3a"
             ],
             [
              0.8888888888888888,
              "#fdca26"
             ],
             [
              1,
              "#f0f921"
             ]
            ],
            "type": "heatmapgl"
           }
          ],
          "histogram": [
           {
            "marker": {
             "pattern": {
              "fillmode": "overlay",
              "size": 10,
              "solidity": 0.2
             }
            },
            "type": "histogram"
           }
          ],
          "histogram2d": [
           {
            "colorbar": {
             "outlinewidth": 0,
             "ticks": ""
            },
            "colorscale": [
             [
              0,
              "#0d0887"
             ],
             [
              0.1111111111111111,
              "#46039f"
             ],
             [
              0.2222222222222222,
              "#7201a8"
             ],
             [
              0.3333333333333333,
              "#9c179e"
             ],
             [
              0.4444444444444444,
              "#bd3786"
             ],
             [
              0.5555555555555556,
              "#d8576b"
             ],
             [
              0.6666666666666666,
              "#ed7953"
             ],
             [
              0.7777777777777778,
              "#fb9f3a"
             ],
             [
              0.8888888888888888,
              "#fdca26"
             ],
             [
              1,
              "#f0f921"
             ]
            ],
            "type": "histogram2d"
           }
          ],
          "histogram2dcontour": [
           {
            "colorbar": {
             "outlinewidth": 0,
             "ticks": ""
            },
            "colorscale": [
             [
              0,
              "#0d0887"
             ],
             [
              0.1111111111111111,
              "#46039f"
             ],
             [
              0.2222222222222222,
              "#7201a8"
             ],
             [
              0.3333333333333333,
              "#9c179e"
             ],
             [
              0.4444444444444444,
              "#bd3786"
             ],
             [
              0.5555555555555556,
              "#d8576b"
             ],
             [
              0.6666666666666666,
              "#ed7953"
             ],
             [
              0.7777777777777778,
              "#fb9f3a"
             ],
             [
              0.8888888888888888,
              "#fdca26"
             ],
             [
              1,
              "#f0f921"
             ]
            ],
            "type": "histogram2dcontour"
           }
          ],
          "mesh3d": [
           {
            "colorbar": {
             "outlinewidth": 0,
             "ticks": ""
            },
            "type": "mesh3d"
           }
          ],
          "parcoords": [
           {
            "line": {
             "colorbar": {
              "outlinewidth": 0,
              "ticks": ""
             }
            },
            "type": "parcoords"
           }
          ],
          "pie": [
           {
            "automargin": true,
            "type": "pie"
           }
          ],
          "scatter": [
           {
            "fillpattern": {
             "fillmode": "overlay",
             "size": 10,
             "solidity": 0.2
            },
            "type": "scatter"
           }
          ],
          "scatter3d": [
           {
            "line": {
             "colorbar": {
              "outlinewidth": 0,
              "ticks": ""
             }
            },
            "marker": {
             "colorbar": {
              "outlinewidth": 0,
              "ticks": ""
             }
            },
            "type": "scatter3d"
           }
          ],
          "scattercarpet": [
           {
            "marker": {
             "colorbar": {
              "outlinewidth": 0,
              "ticks": ""
             }
            },
            "type": "scattercarpet"
           }
          ],
          "scattergeo": [
           {
            "marker": {
             "colorbar": {
              "outlinewidth": 0,
              "ticks": ""
             }
            },
            "type": "scattergeo"
           }
          ],
          "scattergl": [
           {
            "marker": {
             "colorbar": {
              "outlinewidth": 0,
              "ticks": ""
             }
            },
            "type": "scattergl"
           }
          ],
          "scattermapbox": [
           {
            "marker": {
             "colorbar": {
              "outlinewidth": 0,
              "ticks": ""
             }
            },
            "type": "scattermapbox"
           }
          ],
          "scatterpolar": [
           {
            "marker": {
             "colorbar": {
              "outlinewidth": 0,
              "ticks": ""
             }
            },
            "type": "scatterpolar"
           }
          ],
          "scatterpolargl": [
           {
            "marker": {
             "colorbar": {
              "outlinewidth": 0,
              "ticks": ""
             }
            },
            "type": "scatterpolargl"
           }
          ],
          "scatterternary": [
           {
            "marker": {
             "colorbar": {
              "outlinewidth": 0,
              "ticks": ""
             }
            },
            "type": "scatterternary"
           }
          ],
          "surface": [
           {
            "colorbar": {
             "outlinewidth": 0,
             "ticks": ""
            },
            "colorscale": [
             [
              0,
              "#0d0887"
             ],
             [
              0.1111111111111111,
              "#46039f"
             ],
             [
              0.2222222222222222,
              "#7201a8"
             ],
             [
              0.3333333333333333,
              "#9c179e"
             ],
             [
              0.4444444444444444,
              "#bd3786"
             ],
             [
              0.5555555555555556,
              "#d8576b"
             ],
             [
              0.6666666666666666,
              "#ed7953"
             ],
             [
              0.7777777777777778,
              "#fb9f3a"
             ],
             [
              0.8888888888888888,
              "#fdca26"
             ],
             [
              1,
              "#f0f921"
             ]
            ],
            "type": "surface"
           }
          ],
          "table": [
           {
            "cells": {
             "fill": {
              "color": "#EBF0F8"
             },
             "line": {
              "color": "white"
             }
            },
            "header": {
             "fill": {
              "color": "#C8D4E3"
             },
             "line": {
              "color": "white"
             }
            },
            "type": "table"
           }
          ]
         },
         "layout": {
          "annotationdefaults": {
           "arrowcolor": "#2a3f5f",
           "arrowhead": 0,
           "arrowwidth": 1
          },
          "autotypenumbers": "strict",
          "coloraxis": {
           "colorbar": {
            "outlinewidth": 0,
            "ticks": ""
           }
          },
          "colorscale": {
           "diverging": [
            [
             0,
             "#8e0152"
            ],
            [
             0.1,
             "#c51b7d"
            ],
            [
             0.2,
             "#de77ae"
            ],
            [
             0.3,
             "#f1b6da"
            ],
            [
             0.4,
             "#fde0ef"
            ],
            [
             0.5,
             "#f7f7f7"
            ],
            [
             0.6,
             "#e6f5d0"
            ],
            [
             0.7,
             "#b8e186"
            ],
            [
             0.8,
             "#7fbc41"
            ],
            [
             0.9,
             "#4d9221"
            ],
            [
             1,
             "#276419"
            ]
           ],
           "sequential": [
            [
             0,
             "#0d0887"
            ],
            [
             0.1111111111111111,
             "#46039f"
            ],
            [
             0.2222222222222222,
             "#7201a8"
            ],
            [
             0.3333333333333333,
             "#9c179e"
            ],
            [
             0.4444444444444444,
             "#bd3786"
            ],
            [
             0.5555555555555556,
             "#d8576b"
            ],
            [
             0.6666666666666666,
             "#ed7953"
            ],
            [
             0.7777777777777778,
             "#fb9f3a"
            ],
            [
             0.8888888888888888,
             "#fdca26"
            ],
            [
             1,
             "#f0f921"
            ]
           ],
           "sequentialminus": [
            [
             0,
             "#0d0887"
            ],
            [
             0.1111111111111111,
             "#46039f"
            ],
            [
             0.2222222222222222,
             "#7201a8"
            ],
            [
             0.3333333333333333,
             "#9c179e"
            ],
            [
             0.4444444444444444,
             "#bd3786"
            ],
            [
             0.5555555555555556,
             "#d8576b"
            ],
            [
             0.6666666666666666,
             "#ed7953"
            ],
            [
             0.7777777777777778,
             "#fb9f3a"
            ],
            [
             0.8888888888888888,
             "#fdca26"
            ],
            [
             1,
             "#f0f921"
            ]
           ]
          },
          "colorway": [
           "#636efa",
           "#EF553B",
           "#00cc96",
           "#ab63fa",
           "#FFA15A",
           "#19d3f3",
           "#FF6692",
           "#B6E880",
           "#FF97FF",
           "#FECB52"
          ],
          "font": {
           "color": "#2a3f5f"
          },
          "geo": {
           "bgcolor": "white",
           "lakecolor": "white",
           "landcolor": "#E5ECF6",
           "showlakes": true,
           "showland": true,
           "subunitcolor": "white"
          },
          "hoverlabel": {
           "align": "left"
          },
          "hovermode": "closest",
          "mapbox": {
           "style": "light"
          },
          "paper_bgcolor": "white",
          "plot_bgcolor": "#E5ECF6",
          "polar": {
           "angularaxis": {
            "gridcolor": "white",
            "linecolor": "white",
            "ticks": ""
           },
           "bgcolor": "#E5ECF6",
           "radialaxis": {
            "gridcolor": "white",
            "linecolor": "white",
            "ticks": ""
           }
          },
          "scene": {
           "xaxis": {
            "backgroundcolor": "#E5ECF6",
            "gridcolor": "white",
            "gridwidth": 2,
            "linecolor": "white",
            "showbackground": true,
            "ticks": "",
            "zerolinecolor": "white"
           },
           "yaxis": {
            "backgroundcolor": "#E5ECF6",
            "gridcolor": "white",
            "gridwidth": 2,
            "linecolor": "white",
            "showbackground": true,
            "ticks": "",
            "zerolinecolor": "white"
           },
           "zaxis": {
            "backgroundcolor": "#E5ECF6",
            "gridcolor": "white",
            "gridwidth": 2,
            "linecolor": "white",
            "showbackground": true,
            "ticks": "",
            "zerolinecolor": "white"
           }
          },
          "shapedefaults": {
           "line": {
            "color": "#2a3f5f"
           }
          },
          "ternary": {
           "aaxis": {
            "gridcolor": "white",
            "linecolor": "white",
            "ticks": ""
           },
           "baxis": {
            "gridcolor": "white",
            "linecolor": "white",
            "ticks": ""
           },
           "bgcolor": "#E5ECF6",
           "caxis": {
            "gridcolor": "white",
            "linecolor": "white",
            "ticks": ""
           }
          },
          "title": {
           "x": 0.05
          },
          "xaxis": {
           "automargin": true,
           "gridcolor": "white",
           "linecolor": "white",
           "ticks": "",
           "title": {
            "standoff": 15
           },
           "zerolinecolor": "white",
           "zerolinewidth": 2
          },
          "yaxis": {
           "automargin": true,
           "gridcolor": "white",
           "linecolor": "white",
           "ticks": "",
           "title": {
            "standoff": 15
           },
           "zerolinecolor": "white",
           "zerolinewidth": 2
          }
         }
        },
        "title": {
         "text": "Top 5 Most Common (excluding null): CERTIFICATIONS_NAME"
        },
        "width": 1200,
        "xaxis": {
         "anchor": "y",
         "autorange": true,
         "categoryarray": [
          "[\n  \"Master Of Business Administration (MBA)\"\n]",
          "[\n  \"Valid Driver's License\"\n]",
          "[\n  \"Security Clearance\"\n]",
          "[\n  \"Secret Clearance\"\n]",
          "[\n  \"SAP Certification\"\n]"
         ],
         "categoryorder": "array",
         "domain": [
          0,
          1
         ],
         "range": [
          -0.5,
          4.5
         ],
         "tickangle": -45,
         "title": {
          "text": "Certifications Name"
         },
         "type": "category"
        },
        "yaxis": {
         "anchor": "x",
         "autorange": true,
         "domain": [
          0,
          1
         ],
         "range": [
          0,
          1112.6315789473683
         ],
         "title": {
          "text": "Count"
         },
         "type": "linear"
        }
       }
      },
      "image/png": "[encoded data removed]",
      "text/html": [
       "<div>                            <div id=\"e0d1bdc7-bef8-4736-89eb-e72eae6f2851\" class=\"plotly-graph-div\" style=\"height:525px; width:1200px;\"></div>            <script type=\"text/javascript\">                require([\"plotly\"], function(Plotly) {                    window.PLOTLYENV=window.PLOTLYENV || {};                                    if (document.getElementById(\"e0d1bdc7-bef8-4736-89eb-e72eae6f2851\")) {                    Plotly.newPlot(                        \"e0d1bdc7-bef8-4736-89eb-e72eae6f2851\",                        [{\"alignmentgroup\":\"True\",\"hovertemplate\":\"Certifications Name=%{x}\\u003cbr\\u003eCount=%{y}\\u003cextra\\u003e\\u003c\\u002fextra\\u003e\",\"legendgroup\":\"[\\n  \\\"Master Of Business Administration (MBA)\\\"\\n]\",\"marker\":{\"color\":\"#636efa\",\"pattern\":{\"shape\":\"\"}},\"name\":\"[\\n  \\\"Master Of Business Administration (MBA)\\\"\\n]\",\"offsetgroup\":\"[\\n  \\\"Master Of Business Administration (MBA)\\\"\\n]\",\"orientation\":\"v\",\"showlegend\":true,\"textposition\":\"auto\",\"x\":[\"[\\n  \\\"Master Of Business Administration (MBA)\\\"\\n]\"],\"xaxis\":\"x\",\"y\":[1057],\"yaxis\":\"y\",\"type\":\"bar\"},{\"alignmentgroup\":\"True\",\"hovertemplate\":\"Certifications Name=%{x}\\u003cbr\\u003eCount=%{y}\\u003cextra\\u003e\\u003c\\u002fextra\\u003e\",\"legendgroup\":\"[\\n  \\\"Valid Driver's License\\\"\\n]\",\"marker\":{\"color\":\"#EF553B\",\"pattern\":{\"shape\":\"\"}},\"name\":\"[\\n  \\\"Valid Driver's License\\\"\\n]\",\"offsetgroup\":\"[\\n  \\\"Valid Driver's License\\\"\\n]\",\"orientation\":\"v\",\"showlegend\":true,\"textposition\":\"auto\",\"x\":[\"[\\n  \\\"Valid Driver's License\\\"\\n]\"],\"xaxis\":\"x\",\"y\":[887],\"yaxis\":\"y\",\"type\":\"bar\"},{\"alignmentgroup\":\"True\",\"hovertemplate\":\"Certifications Name=%{x}\\u003cbr\\u003eCount=%{y}\\u003cextra\\u003e\\u003c\\u002fextra\\u003e\",\"legendgroup\":\"[\\n  \\\"Security Clearance\\\"\\n]\",\"marker\":{\"color\":\"#00cc96\",\"pattern\":{\"shape\":\"\"}},\"name\":\"[\\n  \\\"Security Clearance\\\"\\n]\",\"offsetgroup\":\"[\\n  \\\"Security Clearance\\\"\\n]\",\"orientation\":\"v\",\"showlegend\":true,\"textposition\":\"auto\",\"x\":[\"[\\n  \\\"Security Clearance\\\"\\n]\"],\"xaxis\":\"x\",\"y\":[857],\"yaxis\":\"y\",\"type\":\"bar\"},{\"alignmentgroup\":\"True\",\"hovertemplate\":\"Certifications Name=%{x}\\u003cbr\\u003eCount=%{y}\\u003cextra\\u003e\\u003c\\u002fextra\\u003e\",\"legendgroup\":\"[\\n  \\\"Secret Clearance\\\"\\n]\",\"marker\":{\"color\":\"#ab63fa\",\"pattern\":{\"shape\":\"\"}},\"name\":\"[\\n  \\\"Secret Clearance\\\"\\n]\",\"offsetgroup\":\"[\\n  \\\"Secret Clearance\\\"\\n]\",\"orientation\":\"v\",\"showlegend\":true,\"textposition\":\"auto\",\"x\":[\"[\\n  \\\"Secret Clearance\\\"\\n]\"],\"xaxis\":\"x\",\"y\":[601],\"yaxis\":\"y\",\"type\":\"bar\"},{\"alignmentgroup\":\"True\",\"hovertemplate\":\"Certifications Name=%{x}\\u003cbr\\u003eCount=%{y}\\u003cextra\\u003e\\u003c\\u002fextra\\u003e\",\"legendgroup\":\"[\\n  \\\"SAP Certification\\\"\\n]\",\"marker\":{\"color\":\"#FFA15A\",\"pattern\":{\"shape\":\"\"}},\"name\":\"[\\n  \\\"SAP Certification\\\"\\n]\",\"offsetgroup\":\"[\\n  \\\"SAP Certification\\\"\\n]\",\"orientation\":\"v\",\"showlegend\":true,\"textposition\":\"auto\",\"x\":[\"[\\n  \\\"SAP Certification\\\"\\n]\"],\"xaxis\":\"x\",\"y\":[588],\"yaxis\":\"y\",\"type\":\"bar\"}],                        {\"template\":{\"data\":{\"histogram2dcontour\":[{\"type\":\"histogram2dcontour\",\"colorbar\":{\"outlinewidth\":0,\"ticks\":\"\"},\"colorscale\":[[0.0,\"#0d0887\"],[0.1111111111111111,\"#46039f\"],[0.2222222222222222,\"#7201a8\"],[0.3333333333333333,\"#9c179e\"],[0.4444444444444444,\"#bd3786\"],[0.5555555555555556,\"#d8576b\"],[0.6666666666666666,\"#ed7953\"],[0.7777777777777778,\"#fb9f3a\"],[0.8888888888888888,\"#fdca26\"],[1.0,\"#f0f921\"]]}],\"choropleth\":[{\"type\":\"choropleth\",\"colorbar\":{\"outlinewidth\":0,\"ticks\":\"\"}}],\"histogram2d\":[{\"type\":\"histogram2d\",\"colorbar\":{\"outlinewidth\":0,\"ticks\":\"\"},\"colorscale\":[[0.0,\"#0d0887\"],[0.1111111111111111,\"#46039f\"],[0.2222222222222222,\"#7201a8\"],[0.3333333333333333,\"#9c179e\"],[0.4444444444444444,\"#bd3786\"],[0.5555555555555556,\"#d8576b\"],[0.6666666666666666,\"#ed7953\"],[0.7777777777777778,\"#fb9f3a\"],[0.8888888888888888,\"#fdca26\"],[1.0,\"#f0f921\"]]}],\"heatmap\":[{\"type\":\"heatmap\",\"colorbar\":{\"outlinewidth\":0,\"ticks\":\"\"},\"colorscale\":[[0.0,\"#0d0887\"],[0.1111111111111111,\"#46039f\"],[0.2222222222222222,\"#7201a8\"],[0.3333333333333333,\"#9c179e\"],[0.4444444444444444,\"#bd3786\"],[0.5555555555555556,\"#d8576b\"],[0.6666666666666666,\"#ed7953\"],[0.7777777777777778,\"#fb9f3a\"],[0.8888888888888888,\"#fdca26\"],[1.0,\"#f0f921\"]]}],\"heatmapgl\":[{\"type\":\"heatmapgl\",\"colorbar\":{\"outlinewidth\":0,\"ticks\":\"\"},\"colorscale\":[[0.0,\"#0d0887\"],[0.1111111111111111,\"#46039f\"],[0.2222222222222222,\"#7201a8\"],[0.3333333333333333,\"#9c179e\"],[0.4444444444444444,\"#bd3786\"],[0.5555555555555556,\"#d8576b\"],[0.6666666666666666,\"#ed7953\"],[0.7777777777777778,\"#fb9f3a\"],[0.8888888888888888,\"#fdca26\"],[1.0,\"#f0f921\"]]}],\"contourcarpet\":[{\"type\":\"contourcarpet\",\"colorbar\":{\"outlinewidth\":0,\"ticks\":\"\"}}],\"contour\":[{\"type\":\"contour\",\"colorbar\":{\"outlinewidth\":0,\"ticks\":\"\"},\"colorscale\":[[0.0,\"#0d0887\"],[0.1111111111111111,\"#46039f\"],[0.2222222222222222,\"#7201a8\"],[0.3333333333333333,\"#9c179e\"],[0.4444444444444444,\"#bd3786\"],[0.5555555555555556,\"#d8576b\"],[0.6666666666666666,\"#ed7953\"],[0.7777777777777778,\"#fb9f3a\"],[0.8888888888888888,\"#fdca26\"],[1.0,\"#f0f921\"]]}],\"surface\":[{\"type\":\"surface\",\"colorbar\":{\"outlinewidth\":0,\"ticks\":\"\"},\"colorscale\":[[0.0,\"#0d0887\"],[0.1111111111111111,\"#46039f\"],[0.2222222222222222,\"#7201a8\"],[0.3333333333333333,\"#9c179e\"],[0.4444444444444444,\"#bd3786\"],[0.5555555555555556,\"#d8576b\"],[0.6666666666666666,\"#ed7953\"],[0.7777777777777778,\"#fb9f3a\"],[0.8888888888888888,\"#fdca26\"],[1.0,\"#f0f921\"]]}],\"mesh3d\":[{\"type\":\"mesh3d\",\"colorbar\":{\"outlinewidth\":0,\"ticks\":\"\"}}],\"scatter\":[{\"fillpattern\":{\"fillmode\":\"overlay\",\"size\":10,\"solidity\":0.2},\"type\":\"scatter\"}],\"parcoords\":[{\"type\":\"parcoords\",\"line\":{\"colorbar\":{\"outlinewidth\":0,\"ticks\":\"\"}}}],\"scatterpolargl\":[{\"type\":\"scatterpolargl\",\"marker\":{\"colorbar\":{\"outlinewidth\":0,\"ticks\":\"\"}}}],\"bar\":[{\"error_x\":{\"color\":\"#2a3f5f\"},\"error_y\":{\"color\":\"#2a3f5f\"},\"marker\":{\"line\":{\"color\":\"#E5ECF6\",\"width\":0.5},\"pattern\":{\"fillmode\":\"overlay\",\"size\":10,\"solidity\":0.2}},\"type\":\"bar\"}],\"scattergeo\":[{\"type\":\"scattergeo\",\"marker\":{\"colorbar\":{\"outlinewidth\":0,\"ticks\":\"\"}}}],\"scatterpolar\":[{\"type\":\"scatterpolar\",\"marker\":{\"colorbar\":{\"outlinewidth\":0,\"ticks\":\"\"}}}],\"histogram\":[{\"marker\":{\"pattern\":{\"fillmode\":\"overlay\",\"size\":10,\"solidity\":0.2}},\"type\":\"histogram\"}],\"scattergl\":[{\"type\":\"scattergl\",\"marker\":{\"colorbar\":{\"outlinewidth\":0,\"ticks\":\"\"}}}],\"scatter3d\":[{\"type\":\"scatter3d\",\"line\":{\"colorbar\":{\"outlinewidth\":0,\"ticks\":\"\"}},\"marker\":{\"colorbar\":{\"outlinewidth\":0,\"ticks\":\"\"}}}],\"scattermapbox\":[{\"type\":\"scattermapbox\",\"marker\":{\"colorbar\":{\"outlinewidth\":0,\"ticks\":\"\"}}}],\"scatterternary\":[{\"type\":\"scatterternary\",\"marker\":{\"colorbar\":{\"outlinewidth\":0,\"ticks\":\"\"}}}],\"scattercarpet\":[{\"type\":\"scattercarpet\",\"marker\":{\"colorbar\":{\"outlinewidth\":0,\"ticks\":\"\"}}}],\"carpet\":[{\"aaxis\":{\"endlinecolor\":\"#2a3f5f\",\"gridcolor\":\"white\",\"linecolor\":\"white\",\"minorgridcolor\":\"white\",\"startlinecolor\":\"#2a3f5f\"},\"baxis\":{\"endlinecolor\":\"#2a3f5f\",\"gridcolor\":\"white\",\"linecolor\":\"white\",\"minorgridcolor\":\"white\",\"startlinecolor\":\"#2a3f5f\"},\"type\":\"carpet\"}],\"table\":[{\"cells\":{\"fill\":{\"color\":\"#EBF0F8\"},\"line\":{\"color\":\"white\"}},\"header\":{\"fill\":{\"color\":\"#C8D4E3\"},\"line\":{\"color\":\"white\"}},\"type\":\"table\"}],\"barpolar\":[{\"marker\":{\"line\":{\"color\":\"#E5ECF6\",\"width\":0.5},\"pattern\":{\"fillmode\":\"overlay\",\"size\":10,\"solidity\":0.2}},\"type\":\"barpolar\"}],\"pie\":[{\"automargin\":true,\"type\":\"pie\"}]},\"layout\":{\"autotypenumbers\":\"strict\",\"colorway\":[\"#636efa\",\"#EF553B\",\"#00cc96\",\"#ab63fa\",\"#FFA15A\",\"#19d3f3\",\"#FF6692\",\"#B6E880\",\"#FF97FF\",\"#FECB52\"],\"font\":{\"color\":\"#2a3f5f\"},\"hovermode\":\"closest\",\"hoverlabel\":{\"align\":\"left\"},\"paper_bgcolor\":\"white\",\"plot_bgcolor\":\"#E5ECF6\",\"polar\":{\"bgcolor\":\"#E5ECF6\",\"angularaxis\":{\"gridcolor\":\"white\",\"linecolor\":\"white\",\"ticks\":\"\"},\"radialaxis\":{\"gridcolor\":\"white\",\"linecolor\":\"white\",\"ticks\":\"\"}},\"ternary\":{\"bgcolor\":\"#E5ECF6\",\"aaxis\":{\"gridcolor\":\"white\",\"linecolor\":\"white\",\"ticks\":\"\"},\"baxis\":{\"gridcolor\":\"white\",\"linecolor\":\"white\",\"ticks\":\"\"},\"caxis\":{\"gridcolor\":\"white\",\"linecolor\":\"white\",\"ticks\":\"\"}},\"coloraxis\":{\"colorbar\":{\"outlinewidth\":0,\"ticks\":\"\"}},\"colorscale\":{\"sequential\":[[0.0,\"#0d0887\"],[0.1111111111111111,\"#46039f\"],[0.2222222222222222,\"#7201a8\"],[0.3333333333333333,\"#9c179e\"],[0.4444444444444444,\"#bd3786\"],[0.5555555555555556,\"#d8576b\"],[0.6666666666666666,\"#ed7953\"],[0.7777777777777778,\"#fb9f3a\"],[0.8888888888888888,\"#fdca26\"],[1.0,\"#f0f921\"]],\"sequentialminus\":[[0.0,\"#0d0887\"],[0.1111111111111111,\"#46039f\"],[0.2222222222222222,\"#7201a8\"],[0.3333333333333333,\"#9c179e\"],[0.4444444444444444,\"#bd3786\"],[0.5555555555555556,\"#d8576b\"],[0.6666666666666666,\"#ed7953\"],[0.7777777777777778,\"#fb9f3a\"],[0.8888888888888888,\"#fdca26\"],[1.0,\"#f0f921\"]],\"diverging\":[[0,\"#8e0152\"],[0.1,\"#c51b7d\"],[0.2,\"#de77ae\"],[0.3,\"#f1b6da\"],[0.4,\"#fde0ef\"],[0.5,\"#f7f7f7\"],[0.6,\"#e6f5d0\"],[0.7,\"#b8e186\"],[0.8,\"#7fbc41\"],[0.9,\"#4d9221\"],[1,\"#276419\"]]},\"xaxis\":{\"gridcolor\":\"white\",\"linecolor\":\"white\",\"ticks\":\"\",\"title\":{\"standoff\":15},\"zerolinecolor\":\"white\",\"automargin\":true,\"zerolinewidth\":2},\"yaxis\":{\"gridcolor\":\"white\",\"linecolor\":\"white\",\"ticks\":\"\",\"title\":{\"standoff\":15},\"zerolinecolor\":\"white\",\"automargin\":true,\"zerolinewidth\":2},\"scene\":{\"xaxis\":{\"backgroundcolor\":\"#E5ECF6\",\"gridcolor\":\"white\",\"linecolor\":\"white\",\"showbackground\":true,\"ticks\":\"\",\"zerolinecolor\":\"white\",\"gridwidth\":2},\"yaxis\":{\"backgroundcolor\":\"#E5ECF6\",\"gridcolor\":\"white\",\"linecolor\":\"white\",\"showbackground\":true,\"ticks\":\"\",\"zerolinecolor\":\"white\",\"gridwidth\":2},\"zaxis\":{\"backgroundcolor\":\"#E5ECF6\",\"gridcolor\":\"white\",\"linecolor\":\"white\",\"showbackground\":true,\"ticks\":\"\",\"zerolinecolor\":\"white\",\"gridwidth\":2}},\"shapedefaults\":{\"line\":{\"color\":\"#2a3f5f\"}},\"annotationdefaults\":{\"arrowcolor\":\"#2a3f5f\",\"arrowhead\":0,\"arrowwidth\":1},\"geo\":{\"bgcolor\":\"white\",\"landcolor\":\"#E5ECF6\",\"subunitcolor\":\"white\",\"showland\":true,\"showlakes\":true,\"lakecolor\":\"white\"},\"title\":{\"x\":0.05},\"mapbox\":{\"style\":\"light\"}}},\"xaxis\":{\"anchor\":\"y\",\"domain\":[0.0,1.0],\"title\":{\"text\":\"Certifications Name\"},\"categoryorder\":\"array\",\"categoryarray\":[\"[\\n  \\\"Master Of Business Administration (MBA)\\\"\\n]\",\"[\\n  \\\"Valid Driver's License\\\"\\n]\",\"[\\n  \\\"Security Clearance\\\"\\n]\",\"[\\n  \\\"Secret Clearance\\\"\\n]\",\"[\\n  \\\"SAP Certification\\\"\\n]\"],\"tickangle\":-45},\"yaxis\":{\"anchor\":\"x\",\"domain\":[0.0,1.0],\"title\":{\"text\":\"Count\"}},\"legend\":{\"title\":{\"text\":\"Certifications Name\"},\"tracegroupgap\":0},\"title\":{\"text\":\"Top 5 Most Common (excluding null): CERTIFICATIONS_NAME\"},\"barmode\":\"relative\",\"margin\":{\"b\":150},\"width\":1200,\"showlegend\":false},                        {\"responsive\": true}                    ).then(function(){\n",
       "                            \n",
       "var gd = document.getElementById('e0d1bdc7-bef8-4736-89eb-e72eae6f2851');\n",
       "var x = new MutationObserver(function (mutations, observer) {{\n",
       "        var display = window.getComputedStyle(gd).display;\n",
       "        if (!display || display === 'none') {{\n",
       "            console.log([gd, 'removed!']);\n",
       "            Plotly.purge(gd);\n",
       "            observer.disconnect();\n",
       "        }}\n",
       "}});\n",
       "\n",
       "// Listen for the removal of the full notebook cells\n",
       "var notebookContainer = gd.closest('#notebook-container');\n",
       "if (notebookContainer) {{\n",
       "    x.observe(notebookContainer, {childList: true});\n",
       "}}\n",
       "\n",
       "// Listen for the clearing of the current output cell\n",
       "var outputEl = gd.closest('.output');\n",
       "if (outputEl) {{\n",
       "    x.observe(outputEl, {childList: true});\n",
       "}}\n",
       "\n",
       "                        })                };                });            </script>        </div>"
      ]
     },
     "metadata": {},
     "output_type": "display_data"
    }
   ],
   "source": [
    "plots['CERTIFICATIONS_NAME'].show()"
   ]
  },
  {
   "cell_type": "code",
   "execution_count": 27,
   "id": "a8ce9089-dea7-4bb9-9591-dcb64033f8e3",
   "metadata": {},
   "outputs": [
    {
     "data": {
      "application/vnd.plotly.v1+json": {
       "config": {
        "plotlyServerURL": "https://plot.ly"
       },
       "data": [
        {
         "alignmentgroup": "True",
         "hovertemplate": "Common Skills Name=%{x}<br>Count=%{y}<extra></extra>",
         "legendgroup": "[\n  \"Communication\"\n]",
         "marker": {
          "color": "#636efa",
          "pattern": {
           "shape": ""
          }
         },
         "name": "[\n  \"Communication\"\n]",
         "offsetgroup": "[\n  \"Communication\"\n]",
         "orientation": "v",
         "showlegend": true,
         "textposition": "auto",
         "type": "bar",
         "x": [
          "[\n  \"Communication\"\n]"
         ],
         "xaxis": "x",
         "y": [
          615
         ],
         "yaxis": "y"
        },
        {
         "alignmentgroup": "True",
         "hovertemplate": "Common Skills Name=%{x}<br>Count=%{y}<extra></extra>",
         "legendgroup": "[\n  \"Management\"\n]",
         "marker": {
          "color": "#EF553B",
          "pattern": {
           "shape": ""
          }
         },
         "name": "[\n  \"Management\"\n]",
         "offsetgroup": "[\n  \"Management\"\n]",
         "orientation": "v",
         "showlegend": true,
         "textposition": "auto",
         "type": "bar",
         "x": [
          "[\n  \"Management\"\n]"
         ],
         "xaxis": "x",
         "y": [
          586
         ],
         "yaxis": "y"
        },
        {
         "alignmentgroup": "True",
         "hovertemplate": "Common Skills Name=%{x}<br>Count=%{y}<extra></extra>",
         "legendgroup": "[\n  \"Consulting\"\n]",
         "marker": {
          "color": "#00cc96",
          "pattern": {
           "shape": ""
          }
         },
         "name": "[\n  \"Consulting\"\n]",
         "offsetgroup": "[\n  \"Consulting\"\n]",
         "orientation": "v",
         "showlegend": true,
         "textposition": "auto",
         "type": "bar",
         "x": [
          "[\n  \"Consulting\"\n]"
         ],
         "xaxis": "x",
         "y": [
          565
         ],
         "yaxis": "y"
        },
        {
         "alignmentgroup": "True",
         "hovertemplate": "Common Skills Name=%{x}<br>Count=%{y}<extra></extra>",
         "legendgroup": "[\n  \"Troubleshooting (Problem Solving)\"\n]",
         "marker": {
          "color": "#ab63fa",
          "pattern": {
           "shape": ""
          }
         },
         "name": "[\n  \"Troubleshooting (Problem Solving)\"\n]",
         "offsetgroup": "[\n  \"Troubleshooting (Problem Solving)\"\n]",
         "orientation": "v",
         "showlegend": true,
         "textposition": "auto",
         "type": "bar",
         "x": [
          "[\n  \"Troubleshooting (Problem Solving)\"\n]"
         ],
         "xaxis": "x",
         "y": [
          305
         ],
         "yaxis": "y"
        },
        {
         "alignmentgroup": "True",
         "hovertemplate": "Common Skills Name=%{x}<br>Count=%{y}<extra></extra>",
         "legendgroup": "[\n  \"Planning\",\n  \"Analytical Skills\",\n  \"Operations\",\n  \"Writing\",\n  \"Information Gathering\"\n]",
         "marker": {
          "color": "#FFA15A",
          "pattern": {
           "shape": ""
          }
         },
         "name": "[\n  \"Planning\",\n  \"Analytical Skills\",\n  \"Operations\",\n  \"Writing\",\n  \"Information Gathering\"\n]",
         "offsetgroup": "[\n  \"Planning\",\n  \"Analytical Skills\",\n  \"Operations\",\n  \"Writing\",\n  \"Information Gathering\"\n]",
         "orientation": "v",
         "showlegend": true,
         "textposition": "auto",
         "type": "bar",
         "x": [
          "[\n  \"Planning\",\n  \"Analytical Skills\",\n  \"Operations\",\n  \"Writing\",\n  \"Information Gathering\"\n]"
         ],
         "xaxis": "x",
         "y": [
          279
         ],
         "yaxis": "y"
        }
       ],
       "layout": {
        "barmode": "relative",
        "height": 360,
        "legend": {
         "title": {
          "text": "Common Skills Name"
         },
         "tracegroupgap": 0
        },
        "margin": {
         "b": 150
        },
        "showlegend": false,
        "template": {
         "data": {
          "bar": [
           {
            "error_x": {
             "color": "#2a3f5f"
            },
            "error_y": {
             "color": "#2a3f5f"
            },
            "marker": {
             "line": {
              "color": "#E5ECF6",
              "width": 0.5
             },
             "pattern": {
              "fillmode": "overlay",
              "size": 10,
              "solidity": 0.2
             }
            },
            "type": "bar"
           }
          ],
          "barpolar": [
           {
            "marker": {
             "line": {
              "color": "#E5ECF6",
              "width": 0.5
             },
             "pattern": {
              "fillmode": "overlay",
              "size": 10,
              "solidity": 0.2
             }
            },
            "type": "barpolar"
           }
          ],
          "carpet": [
           {
            "aaxis": {
             "endlinecolor": "#2a3f5f",
             "gridcolor": "white",
             "linecolor": "white",
             "minorgridcolor": "white",
             "startlinecolor": "#2a3f5f"
            },
            "baxis": {
             "endlinecolor": "#2a3f5f",
             "gridcolor": "white",
             "linecolor": "white",
             "minorgridcolor": "white",
             "startlinecolor": "#2a3f5f"
            },
            "type": "carpet"
           }
          ],
          "choropleth": [
           {
            "colorbar": {
             "outlinewidth": 0,
             "ticks": ""
            },
            "type": "choropleth"
           }
          ],
          "contour": [
           {
            "colorbar": {
             "outlinewidth": 0,
             "ticks": ""
            },
            "colorscale": [
             [
              0,
              "#0d0887"
             ],
             [
              0.1111111111111111,
              "#46039f"
             ],
             [
              0.2222222222222222,
              "#7201a8"
             ],
             [
              0.3333333333333333,
              "#9c179e"
             ],
             [
              0.4444444444444444,
              "#bd3786"
             ],
             [
              0.5555555555555556,
              "#d8576b"
             ],
             [
              0.6666666666666666,
              "#ed7953"
             ],
             [
              0.7777777777777778,
              "#fb9f3a"
             ],
             [
              0.8888888888888888,
              "#fdca26"
             ],
             [
              1,
              "#f0f921"
             ]
            ],
            "type": "contour"
           }
          ],
          "contourcarpet": [
           {
            "colorbar": {
             "outlinewidth": 0,
             "ticks": ""
            },
            "type": "contourcarpet"
           }
          ],
          "heatmap": [
           {
            "colorbar": {
             "outlinewidth": 0,
             "ticks": ""
            },
            "colorscale": [
             [
              0,
              "#0d0887"
             ],
             [
              0.1111111111111111,
              "#46039f"
             ],
             [
              0.2222222222222222,
              "#7201a8"
             ],
             [
              0.3333333333333333,
              "#9c179e"
             ],
             [
              0.4444444444444444,
              "#bd3786"
             ],
             [
              0.5555555555555556,
              "#d8576b"
             ],
             [
              0.6666666666666666,
              "#ed7953"
             ],
             [
              0.7777777777777778,
              "#fb9f3a"
             ],
             [
              0.8888888888888888,
              "#fdca26"
             ],
             [
              1,
              "#f0f921"
             ]
            ],
            "type": "heatmap"
           }
          ],
          "heatmapgl": [
           {
            "colorbar": {
             "outlinewidth": 0,
             "ticks": ""
            },
            "colorscale": [
             [
              0,
              "#0d0887"
             ],
             [
              0.1111111111111111,
              "#46039f"
             ],
             [
              0.2222222222222222,
              "#7201a8"
             ],
             [
              0.3333333333333333,
              "#9c179e"
             ],
             [
              0.4444444444444444,
              "#bd3786"
             ],
             [
              0.5555555555555556,
              "#d8576b"
             ],
             [
              0.6666666666666666,
              "#ed7953"
             ],
             [
              0.7777777777777778,
              "#fb9f3a"
             ],
             [
              0.8888888888888888,
              "#fdca26"
             ],
             [
              1,
              "#f0f921"
             ]
            ],
            "type": "heatmapgl"
           }
          ],
          "histogram": [
           {
            "marker": {
             "pattern": {
              "fillmode": "overlay",
              "size": 10,
              "solidity": 0.2
             }
            },
            "type": "histogram"
           }
          ],
          "histogram2d": [
           {
            "colorbar": {
             "outlinewidth": 0,
             "ticks": ""
            },
            "colorscale": [
             [
              0,
              "#0d0887"
             ],
             [
              0.1111111111111111,
              "#46039f"
             ],
             [
              0.2222222222222222,
              "#7201a8"
             ],
             [
              0.3333333333333333,
              "#9c179e"
             ],
             [
              0.4444444444444444,
              "#bd3786"
             ],
             [
              0.5555555555555556,
              "#d8576b"
             ],
             [
              0.6666666666666666,
              "#ed7953"
             ],
             [
              0.7777777777777778,
              "#fb9f3a"
             ],
             [
              0.8888888888888888,
              "#fdca26"
             ],
             [
              1,
              "#f0f921"
             ]
            ],
            "type": "histogram2d"
           }
          ],
          "histogram2dcontour": [
           {
            "colorbar": {
             "outlinewidth": 0,
             "ticks": ""
            },
            "colorscale": [
             [
              0,
              "#0d0887"
             ],
             [
              0.1111111111111111,
              "#46039f"
             ],
             [
              0.2222222222222222,
              "#7201a8"
             ],
             [
              0.3333333333333333,
              "#9c179e"
             ],
             [
              0.4444444444444444,
              "#bd3786"
             ],
             [
              0.5555555555555556,
              "#d8576b"
             ],
             [
              0.6666666666666666,
              "#ed7953"
             ],
             [
              0.7777777777777778,
              "#fb9f3a"
             ],
             [
              0.8888888888888888,
              "#fdca26"
             ],
             [
              1,
              "#f0f921"
             ]
            ],
            "type": "histogram2dcontour"
           }
          ],
          "mesh3d": [
           {
            "colorbar": {
             "outlinewidth": 0,
             "ticks": ""
            },
            "type": "mesh3d"
           }
          ],
          "parcoords": [
           {
            "line": {
             "colorbar": {
              "outlinewidth": 0,
              "ticks": ""
             }
            },
            "type": "parcoords"
           }
          ],
          "pie": [
           {
            "automargin": true,
            "type": "pie"
           }
          ],
          "scatter": [
           {
            "fillpattern": {
             "fillmode": "overlay",
             "size": 10,
             "solidity": 0.2
            },
            "type": "scatter"
           }
          ],
          "scatter3d": [
           {
            "line": {
             "colorbar": {
              "outlinewidth": 0,
              "ticks": ""
             }
            },
            "marker": {
             "colorbar": {
              "outlinewidth": 0,
              "ticks": ""
             }
            },
            "type": "scatter3d"
           }
          ],
          "scattercarpet": [
           {
            "marker": {
             "colorbar": {
              "outlinewidth": 0,
              "ticks": ""
             }
            },
            "type": "scattercarpet"
           }
          ],
          "scattergeo": [
           {
            "marker": {
             "colorbar": {
              "outlinewidth": 0,
              "ticks": ""
             }
            },
            "type": "scattergeo"
           }
          ],
          "scattergl": [
           {
            "marker": {
             "colorbar": {
              "outlinewidth": 0,
              "ticks": ""
             }
            },
            "type": "scattergl"
           }
          ],
          "scattermapbox": [
           {
            "marker": {
             "colorbar": {
              "outlinewidth": 0,
              "ticks": ""
             }
            },
            "type": "scattermapbox"
           }
          ],
          "scatterpolar": [
           {
            "marker": {
             "colorbar": {
              "outlinewidth": 0,
              "ticks": ""
             }
            },
            "type": "scatterpolar"
           }
          ],
          "scatterpolargl": [
           {
            "marker": {
             "colorbar": {
              "outlinewidth": 0,
              "ticks": ""
             }
            },
            "type": "scatterpolargl"
           }
          ],
          "scatterternary": [
           {
            "marker": {
             "colorbar": {
              "outlinewidth": 0,
              "ticks": ""
             }
            },
            "type": "scatterternary"
           }
          ],
          "surface": [
           {
            "colorbar": {
             "outlinewidth": 0,
             "ticks": ""
            },
            "colorscale": [
             [
              0,
              "#0d0887"
             ],
             [
              0.1111111111111111,
              "#46039f"
             ],
             [
              0.2222222222222222,
              "#7201a8"
             ],
             [
              0.3333333333333333,
              "#9c179e"
             ],
             [
              0.4444444444444444,
              "#bd3786"
             ],
             [
              0.5555555555555556,
              "#d8576b"
             ],
             [
              0.6666666666666666,
              "#ed7953"
             ],
             [
              0.7777777777777778,
              "#fb9f3a"
             ],
             [
              0.8888888888888888,
              "#fdca26"
             ],
             [
              1,
              "#f0f921"
             ]
            ],
            "type": "surface"
           }
          ],
          "table": [
           {
            "cells": {
             "fill": {
              "color": "#EBF0F8"
             },
             "line": {
              "color": "white"
             }
            },
            "header": {
             "fill": {
              "color": "#C8D4E3"
             },
             "line": {
              "color": "white"
             }
            },
            "type": "table"
           }
          ]
         },
         "layout": {
          "annotationdefaults": {
           "arrowcolor": "#2a3f5f",
           "arrowhead": 0,
           "arrowwidth": 1
          },
          "autotypenumbers": "strict",
          "coloraxis": {
           "colorbar": {
            "outlinewidth": 0,
            "ticks": ""
           }
          },
          "colorscale": {
           "diverging": [
            [
             0,
             "#8e0152"
            ],
            [
             0.1,
             "#c51b7d"
            ],
            [
             0.2,
             "#de77ae"
            ],
            [
             0.3,
             "#f1b6da"
            ],
            [
             0.4,
             "#fde0ef"
            ],
            [
             0.5,
             "#f7f7f7"
            ],
            [
             0.6,
             "#e6f5d0"
            ],
            [
             0.7,
             "#b8e186"
            ],
            [
             0.8,
             "#7fbc41"
            ],
            [
             0.9,
             "#4d9221"
            ],
            [
             1,
             "#276419"
            ]
           ],
           "sequential": [
            [
             0,
             "#0d0887"
            ],
            [
             0.1111111111111111,
             "#46039f"
            ],
            [
             0.2222222222222222,
             "#7201a8"
            ],
            [
             0.3333333333333333,
             "#9c179e"
            ],
            [
             0.4444444444444444,
             "#bd3786"
            ],
            [
             0.5555555555555556,
             "#d8576b"
            ],
            [
             0.6666666666666666,
             "#ed7953"
            ],
            [
             0.7777777777777778,
             "#fb9f3a"
            ],
            [
             0.8888888888888888,
             "#fdca26"
            ],
            [
             1,
             "#f0f921"
            ]
           ],
           "sequentialminus": [
            [
             0,
             "#0d0887"
            ],
            [
             0.1111111111111111,
             "#46039f"
            ],
            [
             0.2222222222222222,
             "#7201a8"
            ],
            [
             0.3333333333333333,
             "#9c179e"
            ],
            [
             0.4444444444444444,
             "#bd3786"
            ],
            [
             0.5555555555555556,
             "#d8576b"
            ],
            [
             0.6666666666666666,
             "#ed7953"
            ],
            [
             0.7777777777777778,
             "#fb9f3a"
            ],
            [
             0.8888888888888888,
             "#fdca26"
            ],
            [
             1,
             "#f0f921"
            ]
           ]
          },
          "colorway": [
           "#636efa",
           "#EF553B",
           "#00cc96",
           "#ab63fa",
           "#FFA15A",
           "#19d3f3",
           "#FF6692",
           "#B6E880",
           "#FF97FF",
           "#FECB52"
          ],
          "font": {
           "color": "#2a3f5f"
          },
          "geo": {
           "bgcolor": "white",
           "lakecolor": "white",
           "landcolor": "#E5ECF6",
           "showlakes": true,
           "showland": true,
           "subunitcolor": "white"
          },
          "hoverlabel": {
           "align": "left"
          },
          "hovermode": "closest",
          "mapbox": {
           "style": "light"
          },
          "paper_bgcolor": "white",
          "plot_bgcolor": "#E5ECF6",
          "polar": {
           "angularaxis": {
            "gridcolor": "white",
            "linecolor": "white",
            "ticks": ""
           },
           "bgcolor": "#E5ECF6",
           "radialaxis": {
            "gridcolor": "white",
            "linecolor": "white",
            "ticks": ""
           }
          },
          "scene": {
           "xaxis": {
            "backgroundcolor": "#E5ECF6",
            "gridcolor": "white",
            "gridwidth": 2,
            "linecolor": "white",
            "showbackground": true,
            "ticks": "",
            "zerolinecolor": "white"
           },
           "yaxis": {
            "backgroundcolor": "#E5ECF6",
            "gridcolor": "white",
            "gridwidth": 2,
            "linecolor": "white",
            "showbackground": true,
            "ticks": "",
            "zerolinecolor": "white"
           },
           "zaxis": {
            "backgroundcolor": "#E5ECF6",
            "gridcolor": "white",
            "gridwidth": 2,
            "linecolor": "white",
            "showbackground": true,
            "ticks": "",
            "zerolinecolor": "white"
           }
          },
          "shapedefaults": {
           "line": {
            "color": "#2a3f5f"
           }
          },
          "ternary": {
           "aaxis": {
            "gridcolor": "white",
            "linecolor": "white",
            "ticks": ""
           },
           "baxis": {
            "gridcolor": "white",
            "linecolor": "white",
            "ticks": ""
           },
           "bgcolor": "#E5ECF6",
           "caxis": {
            "gridcolor": "white",
            "linecolor": "white",
            "ticks": ""
           }
          },
          "title": {
           "x": 0.05
          },
          "xaxis": {
           "automargin": true,
           "gridcolor": "white",
           "linecolor": "white",
           "ticks": "",
           "title": {
            "standoff": 15
           },
           "zerolinecolor": "white",
           "zerolinewidth": 2
          },
          "yaxis": {
           "automargin": true,
           "gridcolor": "white",
           "linecolor": "white",
           "ticks": "",
           "title": {
            "standoff": 15
           },
           "zerolinecolor": "white",
           "zerolinewidth": 2
          }
         }
        },
        "title": {
         "text": "Top 5 Most Common (excluding null): COMMON_SKILLS_NAME"
        },
        "width": 1200,
        "xaxis": {
         "anchor": "y",
         "autorange": true,
         "categoryarray": [
          "[\n  \"Communication\"\n]",
          "[\n  \"Management\"\n]",
          "[\n  \"Consulting\"\n]",
          "[\n  \"Troubleshooting (Problem Solving)\"\n]",
          "[\n  \"Planning\",\n  \"Analytical Skills\",\n  \"Operations\",\n  \"Writing\",\n  \"Information Gathering\"\n]"
         ],
         "categoryorder": "array",
         "domain": [
          0,
          1
         ],
         "range": [
          -0.5,
          4.5
         ],
         "tickangle": -45,
         "title": {
          "text": "Common Skills Name"
         },
         "type": "category"
        },
        "yaxis": {
         "anchor": "x",
         "autorange": true,
         "domain": [
          0,
          1
         ],
         "range": [
          0,
          647.3684210526316
         ],
         "title": {
          "text": "Count"
         },
         "type": "linear"
        }
       }
      },
      "image/png": "[encoded data removed]",
      "text/html": [
       "<div>                            <div id=\"86b7f875-4a3d-47c8-bed8-8e1cf0e96643\" class=\"plotly-graph-div\" style=\"height:525px; width:1200px;\"></div>            <script type=\"text/javascript\">                require([\"plotly\"], function(Plotly) {                    window.PLOTLYENV=window.PLOTLYENV || {};                                    if (document.getElementById(\"86b7f875-4a3d-47c8-bed8-8e1cf0e96643\")) {                    Plotly.newPlot(                        \"86b7f875-4a3d-47c8-bed8-8e1cf0e96643\",                        [{\"alignmentgroup\":\"True\",\"hovertemplate\":\"Common Skills Name=%{x}\\u003cbr\\u003eCount=%{y}\\u003cextra\\u003e\\u003c\\u002fextra\\u003e\",\"legendgroup\":\"[\\n  \\\"Communication\\\"\\n]\",\"marker\":{\"color\":\"#636efa\",\"pattern\":{\"shape\":\"\"}},\"name\":\"[\\n  \\\"Communication\\\"\\n]\",\"offsetgroup\":\"[\\n  \\\"Communication\\\"\\n]\",\"orientation\":\"v\",\"showlegend\":true,\"textposition\":\"auto\",\"x\":[\"[\\n  \\\"Communication\\\"\\n]\"],\"xaxis\":\"x\",\"y\":[615],\"yaxis\":\"y\",\"type\":\"bar\"},{\"alignmentgroup\":\"True\",\"hovertemplate\":\"Common Skills Name=%{x}\\u003cbr\\u003eCount=%{y}\\u003cextra\\u003e\\u003c\\u002fextra\\u003e\",\"legendgroup\":\"[\\n  \\\"Management\\\"\\n]\",\"marker\":{\"color\":\"#EF553B\",\"pattern\":{\"shape\":\"\"}},\"name\":\"[\\n  \\\"Management\\\"\\n]\",\"offsetgroup\":\"[\\n  \\\"Management\\\"\\n]\",\"orientation\":\"v\",\"showlegend\":true,\"textposition\":\"auto\",\"x\":[\"[\\n  \\\"Management\\\"\\n]\"],\"xaxis\":\"x\",\"y\":[586],\"yaxis\":\"y\",\"type\":\"bar\"},{\"alignmentgroup\":\"True\",\"hovertemplate\":\"Common Skills Name=%{x}\\u003cbr\\u003eCount=%{y}\\u003cextra\\u003e\\u003c\\u002fextra\\u003e\",\"legendgroup\":\"[\\n  \\\"Consulting\\\"\\n]\",\"marker\":{\"color\":\"#00cc96\",\"pattern\":{\"shape\":\"\"}},\"name\":\"[\\n  \\\"Consulting\\\"\\n]\",\"offsetgroup\":\"[\\n  \\\"Consulting\\\"\\n]\",\"orientation\":\"v\",\"showlegend\":true,\"textposition\":\"auto\",\"x\":[\"[\\n  \\\"Consulting\\\"\\n]\"],\"xaxis\":\"x\",\"y\":[565],\"yaxis\":\"y\",\"type\":\"bar\"},{\"alignmentgroup\":\"True\",\"hovertemplate\":\"Common Skills Name=%{x}\\u003cbr\\u003eCount=%{y}\\u003cextra\\u003e\\u003c\\u002fextra\\u003e\",\"legendgroup\":\"[\\n  \\\"Troubleshooting (Problem Solving)\\\"\\n]\",\"marker\":{\"color\":\"#ab63fa\",\"pattern\":{\"shape\":\"\"}},\"name\":\"[\\n  \\\"Troubleshooting (Problem Solving)\\\"\\n]\",\"offsetgroup\":\"[\\n  \\\"Troubleshooting (Problem Solving)\\\"\\n]\",\"orientation\":\"v\",\"showlegend\":true,\"textposition\":\"auto\",\"x\":[\"[\\n  \\\"Troubleshooting (Problem Solving)\\\"\\n]\"],\"xaxis\":\"x\",\"y\":[305],\"yaxis\":\"y\",\"type\":\"bar\"},{\"alignmentgroup\":\"True\",\"hovertemplate\":\"Common Skills Name=%{x}\\u003cbr\\u003eCount=%{y}\\u003cextra\\u003e\\u003c\\u002fextra\\u003e\",\"legendgroup\":\"[\\n  \\\"Planning\\\",\\n  \\\"Analytical Skills\\\",\\n  \\\"Operations\\\",\\n  \\\"Writing\\\",\\n  \\\"Information Gathering\\\"\\n]\",\"marker\":{\"color\":\"#FFA15A\",\"pattern\":{\"shape\":\"\"}},\"name\":\"[\\n  \\\"Planning\\\",\\n  \\\"Analytical Skills\\\",\\n  \\\"Operations\\\",\\n  \\\"Writing\\\",\\n  \\\"Information Gathering\\\"\\n]\",\"offsetgroup\":\"[\\n  \\\"Planning\\\",\\n  \\\"Analytical Skills\\\",\\n  \\\"Operations\\\",\\n  \\\"Writing\\\",\\n  \\\"Information Gathering\\\"\\n]\",\"orientation\":\"v\",\"showlegend\":true,\"textposition\":\"auto\",\"x\":[\"[\\n  \\\"Planning\\\",\\n  \\\"Analytical Skills\\\",\\n  \\\"Operations\\\",\\n  \\\"Writing\\\",\\n  \\\"Information Gathering\\\"\\n]\"],\"xaxis\":\"x\",\"y\":[279],\"yaxis\":\"y\",\"type\":\"bar\"}],                        {\"template\":{\"data\":{\"histogram2dcontour\":[{\"type\":\"histogram2dcontour\",\"colorbar\":{\"outlinewidth\":0,\"ticks\":\"\"},\"colorscale\":[[0.0,\"#0d0887\"],[0.1111111111111111,\"#46039f\"],[0.2222222222222222,\"#7201a8\"],[0.3333333333333333,\"#9c179e\"],[0.4444444444444444,\"#bd3786\"],[0.5555555555555556,\"#d8576b\"],[0.6666666666666666,\"#ed7953\"],[0.7777777777777778,\"#fb9f3a\"],[0.8888888888888888,\"#fdca26\"],[1.0,\"#f0f921\"]]}],\"choropleth\":[{\"type\":\"choropleth\",\"colorbar\":{\"outlinewidth\":0,\"ticks\":\"\"}}],\"histogram2d\":[{\"type\":\"histogram2d\",\"colorbar\":{\"outlinewidth\":0,\"ticks\":\"\"},\"colorscale\":[[0.0,\"#0d0887\"],[0.1111111111111111,\"#46039f\"],[0.2222222222222222,\"#7201a8\"],[0.3333333333333333,\"#9c179e\"],[0.4444444444444444,\"#bd3786\"],[0.5555555555555556,\"#d8576b\"],[0.6666666666666666,\"#ed7953\"],[0.7777777777777778,\"#fb9f3a\"],[0.8888888888888888,\"#fdca26\"],[1.0,\"#f0f921\"]]}],\"heatmap\":[{\"type\":\"heatmap\",\"colorbar\":{\"outlinewidth\":0,\"ticks\":\"\"},\"colorscale\":[[0.0,\"#0d0887\"],[0.1111111111111111,\"#46039f\"],[0.2222222222222222,\"#7201a8\"],[0.3333333333333333,\"#9c179e\"],[0.4444444444444444,\"#bd3786\"],[0.5555555555555556,\"#d8576b\"],[0.6666666666666666,\"#ed7953\"],[0.7777777777777778,\"#fb9f3a\"],[0.8888888888888888,\"#fdca26\"],[1.0,\"#f0f921\"]]}],\"heatmapgl\":[{\"type\":\"heatmapgl\",\"colorbar\":{\"outlinewidth\":0,\"ticks\":\"\"},\"colorscale\":[[0.0,\"#0d0887\"],[0.1111111111111111,\"#46039f\"],[0.2222222222222222,\"#7201a8\"],[0.3333333333333333,\"#9c179e\"],[0.4444444444444444,\"#bd3786\"],[0.5555555555555556,\"#d8576b\"],[0.6666666666666666,\"#ed7953\"],[0.7777777777777778,\"#fb9f3a\"],[0.8888888888888888,\"#fdca26\"],[1.0,\"#f0f921\"]]}],\"contourcarpet\":[{\"type\":\"contourcarpet\",\"colorbar\":{\"outlinewidth\":0,\"ticks\":\"\"}}],\"contour\":[{\"type\":\"contour\",\"colorbar\":{\"outlinewidth\":0,\"ticks\":\"\"},\"colorscale\":[[0.0,\"#0d0887\"],[0.1111111111111111,\"#46039f\"],[0.2222222222222222,\"#7201a8\"],[0.3333333333333333,\"#9c179e\"],[0.4444444444444444,\"#bd3786\"],[0.5555555555555556,\"#d8576b\"],[0.6666666666666666,\"#ed7953\"],[0.7777777777777778,\"#fb9f3a\"],[0.8888888888888888,\"#fdca26\"],[1.0,\"#f0f921\"]]}],\"surface\":[{\"type\":\"surface\",\"colorbar\":{\"outlinewidth\":0,\"ticks\":\"\"},\"colorscale\":[[0.0,\"#0d0887\"],[0.1111111111111111,\"#46039f\"],[0.2222222222222222,\"#7201a8\"],[0.3333333333333333,\"#9c179e\"],[0.4444444444444444,\"#bd3786\"],[0.5555555555555556,\"#d8576b\"],[0.6666666666666666,\"#ed7953\"],[0.7777777777777778,\"#fb9f3a\"],[0.8888888888888888,\"#fdca26\"],[1.0,\"#f0f921\"]]}],\"mesh3d\":[{\"type\":\"mesh3d\",\"colorbar\":{\"outlinewidth\":0,\"ticks\":\"\"}}],\"scatter\":[{\"fillpattern\":{\"fillmode\":\"overlay\",\"size\":10,\"solidity\":0.2},\"type\":\"scatter\"}],\"parcoords\":[{\"type\":\"parcoords\",\"line\":{\"colorbar\":{\"outlinewidth\":0,\"ticks\":\"\"}}}],\"scatterpolargl\":[{\"type\":\"scatterpolargl\",\"marker\":{\"colorbar\":{\"outlinewidth\":0,\"ticks\":\"\"}}}],\"bar\":[{\"error_x\":{\"color\":\"#2a3f5f\"},\"error_y\":{\"color\":\"#2a3f5f\"},\"marker\":{\"line\":{\"color\":\"#E5ECF6\",\"width\":0.5},\"pattern\":{\"fillmode\":\"overlay\",\"size\":10,\"solidity\":0.2}},\"type\":\"bar\"}],\"scattergeo\":[{\"type\":\"scattergeo\",\"marker\":{\"colorbar\":{\"outlinewidth\":0,\"ticks\":\"\"}}}],\"scatterpolar\":[{\"type\":\"scatterpolar\",\"marker\":{\"colorbar\":{\"outlinewidth\":0,\"ticks\":\"\"}}}],\"histogram\":[{\"marker\":{\"pattern\":{\"fillmode\":\"overlay\",\"size\":10,\"solidity\":0.2}},\"type\":\"histogram\"}],\"scattergl\":[{\"type\":\"scattergl\",\"marker\":{\"colorbar\":{\"outlinewidth\":0,\"ticks\":\"\"}}}],\"scatter3d\":[{\"type\":\"scatter3d\",\"line\":{\"colorbar\":{\"outlinewidth\":0,\"ticks\":\"\"}},\"marker\":{\"colorbar\":{\"outlinewidth\":0,\"ticks\":\"\"}}}],\"scattermapbox\":[{\"type\":\"scattermapbox\",\"marker\":{\"colorbar\":{\"outlinewidth\":0,\"ticks\":\"\"}}}],\"scatterternary\":[{\"type\":\"scatterternary\",\"marker\":{\"colorbar\":{\"outlinewidth\":0,\"ticks\":\"\"}}}],\"scattercarpet\":[{\"type\":\"scattercarpet\",\"marker\":{\"colorbar\":{\"outlinewidth\":0,\"ticks\":\"\"}}}],\"carpet\":[{\"aaxis\":{\"endlinecolor\":\"#2a3f5f\",\"gridcolor\":\"white\",\"linecolor\":\"white\",\"minorgridcolor\":\"white\",\"startlinecolor\":\"#2a3f5f\"},\"baxis\":{\"endlinecolor\":\"#2a3f5f\",\"gridcolor\":\"white\",\"linecolor\":\"white\",\"minorgridcolor\":\"white\",\"startlinecolor\":\"#2a3f5f\"},\"type\":\"carpet\"}],\"table\":[{\"cells\":{\"fill\":{\"color\":\"#EBF0F8\"},\"line\":{\"color\":\"white\"}},\"header\":{\"fill\":{\"color\":\"#C8D4E3\"},\"line\":{\"color\":\"white\"}},\"type\":\"table\"}],\"barpolar\":[{\"marker\":{\"line\":{\"color\":\"#E5ECF6\",\"width\":0.5},\"pattern\":{\"fillmode\":\"overlay\",\"size\":10,\"solidity\":0.2}},\"type\":\"barpolar\"}],\"pie\":[{\"automargin\":true,\"type\":\"pie\"}]},\"layout\":{\"autotypenumbers\":\"strict\",\"colorway\":[\"#636efa\",\"#EF553B\",\"#00cc96\",\"#ab63fa\",\"#FFA15A\",\"#19d3f3\",\"#FF6692\",\"#B6E880\",\"#FF97FF\",\"#FECB52\"],\"font\":{\"color\":\"#2a3f5f\"},\"hovermode\":\"closest\",\"hoverlabel\":{\"align\":\"left\"},\"paper_bgcolor\":\"white\",\"plot_bgcolor\":\"#E5ECF6\",\"polar\":{\"bgcolor\":\"#E5ECF6\",\"angularaxis\":{\"gridcolor\":\"white\",\"linecolor\":\"white\",\"ticks\":\"\"},\"radialaxis\":{\"gridcolor\":\"white\",\"linecolor\":\"white\",\"ticks\":\"\"}},\"ternary\":{\"bgcolor\":\"#E5ECF6\",\"aaxis\":{\"gridcolor\":\"white\",\"linecolor\":\"white\",\"ticks\":\"\"},\"baxis\":{\"gridcolor\":\"white\",\"linecolor\":\"white\",\"ticks\":\"\"},\"caxis\":{\"gridcolor\":\"white\",\"linecolor\":\"white\",\"ticks\":\"\"}},\"coloraxis\":{\"colorbar\":{\"outlinewidth\":0,\"ticks\":\"\"}},\"colorscale\":{\"sequential\":[[0.0,\"#0d0887\"],[0.1111111111111111,\"#46039f\"],[0.2222222222222222,\"#7201a8\"],[0.3333333333333333,\"#9c179e\"],[0.4444444444444444,\"#bd3786\"],[0.5555555555555556,\"#d8576b\"],[0.6666666666666666,\"#ed7953\"],[0.7777777777777778,\"#fb9f3a\"],[0.8888888888888888,\"#fdca26\"],[1.0,\"#f0f921\"]],\"sequentialminus\":[[0.0,\"#0d0887\"],[0.1111111111111111,\"#46039f\"],[0.2222222222222222,\"#7201a8\"],[0.3333333333333333,\"#9c179e\"],[0.4444444444444444,\"#bd3786\"],[0.5555555555555556,\"#d8576b\"],[0.6666666666666666,\"#ed7953\"],[0.7777777777777778,\"#fb9f3a\"],[0.8888888888888888,\"#fdca26\"],[1.0,\"#f0f921\"]],\"diverging\":[[0,\"#8e0152\"],[0.1,\"#c51b7d\"],[0.2,\"#de77ae\"],[0.3,\"#f1b6da\"],[0.4,\"#fde0ef\"],[0.5,\"#f7f7f7\"],[0.6,\"#e6f5d0\"],[0.7,\"#b8e186\"],[0.8,\"#7fbc41\"],[0.9,\"#4d9221\"],[1,\"#276419\"]]},\"xaxis\":{\"gridcolor\":\"white\",\"linecolor\":\"white\",\"ticks\":\"\",\"title\":{\"standoff\":15},\"zerolinecolor\":\"white\",\"automargin\":true,\"zerolinewidth\":2},\"yaxis\":{\"gridcolor\":\"white\",\"linecolor\":\"white\",\"ticks\":\"\",\"title\":{\"standoff\":15},\"zerolinecolor\":\"white\",\"automargin\":true,\"zerolinewidth\":2},\"scene\":{\"xaxis\":{\"backgroundcolor\":\"#E5ECF6\",\"gridcolor\":\"white\",\"linecolor\":\"white\",\"showbackground\":true,\"ticks\":\"\",\"zerolinecolor\":\"white\",\"gridwidth\":2},\"yaxis\":{\"backgroundcolor\":\"#E5ECF6\",\"gridcolor\":\"white\",\"linecolor\":\"white\",\"showbackground\":true,\"ticks\":\"\",\"zerolinecolor\":\"white\",\"gridwidth\":2},\"zaxis\":{\"backgroundcolor\":\"#E5ECF6\",\"gridcolor\":\"white\",\"linecolor\":\"white\",\"showbackground\":true,\"ticks\":\"\",\"zerolinecolor\":\"white\",\"gridwidth\":2}},\"shapedefaults\":{\"line\":{\"color\":\"#2a3f5f\"}},\"annotationdefaults\":{\"arrowcolor\":\"#2a3f5f\",\"arrowhead\":0,\"arrowwidth\":1},\"geo\":{\"bgcolor\":\"white\",\"landcolor\":\"#E5ECF6\",\"subunitcolor\":\"white\",\"showland\":true,\"showlakes\":true,\"lakecolor\":\"white\"},\"title\":{\"x\":0.05},\"mapbox\":{\"style\":\"light\"}}},\"xaxis\":{\"anchor\":\"y\",\"domain\":[0.0,1.0],\"title\":{\"text\":\"Common Skills Name\"},\"categoryorder\":\"array\",\"categoryarray\":[\"[\\n  \\\"Communication\\\"\\n]\",\"[\\n  \\\"Management\\\"\\n]\",\"[\\n  \\\"Consulting\\\"\\n]\",\"[\\n  \\\"Troubleshooting (Problem Solving)\\\"\\n]\",\"[\\n  \\\"Planning\\\",\\n  \\\"Analytical Skills\\\",\\n  \\\"Operations\\\",\\n  \\\"Writing\\\",\\n  \\\"Information Gathering\\\"\\n]\"],\"tickangle\":-45},\"yaxis\":{\"anchor\":\"x\",\"domain\":[0.0,1.0],\"title\":{\"text\":\"Count\"}},\"legend\":{\"title\":{\"text\":\"Common Skills Name\"},\"tracegroupgap\":0},\"title\":{\"text\":\"Top 5 Most Common (excluding null): COMMON_SKILLS_NAME\"},\"barmode\":\"relative\",\"margin\":{\"b\":150},\"width\":1200,\"showlegend\":false},                        {\"responsive\": true}                    ).then(function(){\n",
       "                            \n",
       "var gd = document.getElementById('86b7f875-4a3d-47c8-bed8-8e1cf0e96643');\n",
       "var x = new MutationObserver(function (mutations, observer) {{\n",
       "        var display = window.getComputedStyle(gd).display;\n",
       "        if (!display || display === 'none') {{\n",
       "            console.log([gd, 'removed!']);\n",
       "            Plotly.purge(gd);\n",
       "            observer.disconnect();\n",
       "        }}\n",
       "}});\n",
       "\n",
       "// Listen for the removal of the full notebook cells\n",
       "var notebookContainer = gd.closest('#notebook-container');\n",
       "if (notebookContainer) {{\n",
       "    x.observe(notebookContainer, {childList: true});\n",
       "}}\n",
       "\n",
       "// Listen for the clearing of the current output cell\n",
       "var outputEl = gd.closest('.output');\n",
       "if (outputEl) {{\n",
       "    x.observe(outputEl, {childList: true});\n",
       "}}\n",
       "\n",
       "                        })                };                });            </script>        </div>"
      ]
     },
     "metadata": {},
     "output_type": "display_data"
    }
   ],
   "source": [
    "plots['COMMON_SKILLS_NAME'].show()"
   ]
  },
  {
   "cell_type": "code",
   "execution_count": 28,
   "id": "3d08c0f7-12c3-472a-9991-399780afc058",
   "metadata": {},
   "outputs": [
    {
     "data": {
      "application/vnd.plotly.v1+json": {
       "config": {
        "plotlyServerURL": "https://plot.ly"
       },
       "data": [
        {
         "alignmentgroup": "True",
         "hovertemplate": "Software Skills Name=%{x}<br>Count=%{y}<extra></extra>",
         "legendgroup": "[\n  \"SAP Applications\"\n]",
         "marker": {
          "color": "#636efa",
          "pattern": {
           "shape": ""
          }
         },
         "name": "[\n  \"SAP Applications\"\n]",
         "offsetgroup": "[\n  \"SAP Applications\"\n]",
         "orientation": "v",
         "showlegend": true,
         "textposition": "auto",
         "type": "bar",
         "x": [
          "[\n  \"SAP Applications\"\n]"
         ],
         "xaxis": "x",
         "y": [
          1044
         ],
         "yaxis": "y"
        },
        {
         "alignmentgroup": "True",
         "hovertemplate": "Software Skills Name=%{x}<br>Count=%{y}<extra></extra>",
         "legendgroup": "[\n  \"Oracle Cloud\"\n]",
         "marker": {
          "color": "#EF553B",
          "pattern": {
           "shape": ""
          }
         },
         "name": "[\n  \"Oracle Cloud\"\n]",
         "offsetgroup": "[\n  \"Oracle Cloud\"\n]",
         "orientation": "v",
         "showlegend": true,
         "textposition": "auto",
         "type": "bar",
         "x": [
          "[\n  \"Oracle Cloud\"\n]"
         ],
         "xaxis": "x",
         "y": [
          811
         ],
         "yaxis": "y"
        },
        {
         "alignmentgroup": "True",
         "hovertemplate": "Software Skills Name=%{x}<br>Count=%{y}<extra></extra>",
         "legendgroup": "[\n  \"Microsoft Office\"\n]",
         "marker": {
          "color": "#00cc96",
          "pattern": {
           "shape": ""
          }
         },
         "name": "[\n  \"Microsoft Office\"\n]",
         "offsetgroup": "[\n  \"Microsoft Office\"\n]",
         "orientation": "v",
         "showlegend": true,
         "textposition": "auto",
         "type": "bar",
         "x": [
          "[\n  \"Microsoft Office\"\n]"
         ],
         "xaxis": "x",
         "y": [
          777
         ],
         "yaxis": "y"
        },
        {
         "alignmentgroup": "True",
         "hovertemplate": "Software Skills Name=%{x}<br>Count=%{y}<extra></extra>",
         "legendgroup": "[\n  \"Dashboard\"\n]",
         "marker": {
          "color": "#ab63fa",
          "pattern": {
           "shape": ""
          }
         },
         "name": "[\n  \"Dashboard\"\n]",
         "offsetgroup": "[\n  \"Dashboard\"\n]",
         "orientation": "v",
         "showlegend": true,
         "textposition": "auto",
         "type": "bar",
         "x": [
          "[\n  \"Dashboard\"\n]"
         ],
         "xaxis": "x",
         "y": [
          503
         ],
         "yaxis": "y"
        },
        {
         "alignmentgroup": "True",
         "hovertemplate": "Software Skills Name=%{x}<br>Count=%{y}<extra></extra>",
         "legendgroup": "[\n  \"SQL (Programming Language)\"\n]",
         "marker": {
          "color": "#FFA15A",
          "pattern": {
           "shape": ""
          }
         },
         "name": "[\n  \"SQL (Programming Language)\"\n]",
         "offsetgroup": "[\n  \"SQL (Programming Language)\"\n]",
         "orientation": "v",
         "showlegend": true,
         "textposition": "auto",
         "type": "bar",
         "x": [
          "[\n  \"SQL (Programming Language)\"\n]"
         ],
         "xaxis": "x",
         "y": [
          444
         ],
         "yaxis": "y"
        }
       ],
       "layout": {
        "barmode": "relative",
        "height": 360,
        "legend": {
         "title": {
          "text": "Software Skills Name"
         },
         "tracegroupgap": 0
        },
        "margin": {
         "b": 150
        },
        "showlegend": false,
        "template": {
         "data": {
          "bar": [
           {
            "error_x": {
             "color": "#2a3f5f"
            },
            "error_y": {
             "color": "#2a3f5f"
            },
            "marker": {
             "line": {
              "color": "#E5ECF6",
              "width": 0.5
             },
             "pattern": {
              "fillmode": "overlay",
              "size": 10,
              "solidity": 0.2
             }
            },
            "type": "bar"
           }
          ],
          "barpolar": [
           {
            "marker": {
             "line": {
              "color": "#E5ECF6",
              "width": 0.5
             },
             "pattern": {
              "fillmode": "overlay",
              "size": 10,
              "solidity": 0.2
             }
            },
            "type": "barpolar"
           }
          ],
          "carpet": [
           {
            "aaxis": {
             "endlinecolor": "#2a3f5f",
             "gridcolor": "white",
             "linecolor": "white",
             "minorgridcolor": "white",
             "startlinecolor": "#2a3f5f"
            },
            "baxis": {
             "endlinecolor": "#2a3f5f",
             "gridcolor": "white",
             "linecolor": "white",
             "minorgridcolor": "white",
             "startlinecolor": "#2a3f5f"
            },
            "type": "carpet"
           }
          ],
          "choropleth": [
           {
            "colorbar": {
             "outlinewidth": 0,
             "ticks": ""
            },
            "type": "choropleth"
           }
          ],
          "contour": [
           {
            "colorbar": {
             "outlinewidth": 0,
             "ticks": ""
            },
            "colorscale": [
             [
              0,
              "#0d0887"
             ],
             [
              0.1111111111111111,
              "#46039f"
             ],
             [
              0.2222222222222222,
              "#7201a8"
             ],
             [
              0.3333333333333333,
              "#9c179e"
             ],
             [
              0.4444444444444444,
              "#bd3786"
             ],
             [
              0.5555555555555556,
              "#d8576b"
             ],
             [
              0.6666666666666666,
              "#ed7953"
             ],
             [
              0.7777777777777778,
              "#fb9f3a"
             ],
             [
              0.8888888888888888,
              "#fdca26"
             ],
             [
              1,
              "#f0f921"
             ]
            ],
            "type": "contour"
           }
          ],
          "contourcarpet": [
           {
            "colorbar": {
             "outlinewidth": 0,
             "ticks": ""
            },
            "type": "contourcarpet"
           }
          ],
          "heatmap": [
           {
            "colorbar": {
             "outlinewidth": 0,
             "ticks": ""
            },
            "colorscale": [
             [
              0,
              "#0d0887"
             ],
             [
              0.1111111111111111,
              "#46039f"
             ],
             [
              0.2222222222222222,
              "#7201a8"
             ],
             [
              0.3333333333333333,
              "#9c179e"
             ],
             [
              0.4444444444444444,
              "#bd3786"
             ],
             [
              0.5555555555555556,
              "#d8576b"
             ],
             [
              0.6666666666666666,
              "#ed7953"
             ],
             [
              0.7777777777777778,
              "#fb9f3a"
             ],
             [
              0.8888888888888888,
              "#fdca26"
             ],
             [
              1,
              "#f0f921"
             ]
            ],
            "type": "heatmap"
           }
          ],
          "heatmapgl": [
           {
            "colorbar": {
             "outlinewidth": 0,
             "ticks": ""
            },
            "colorscale": [
             [
              0,
              "#0d0887"
             ],
             [
              0.1111111111111111,
              "#46039f"
             ],
             [
              0.2222222222222222,
              "#7201a8"
             ],
             [
              0.3333333333333333,
              "#9c179e"
             ],
             [
              0.4444444444444444,
              "#bd3786"
             ],
             [
              0.5555555555555556,
              "#d8576b"
             ],
             [
              0.6666666666666666,
              "#ed7953"
             ],
             [
              0.7777777777777778,
              "#fb9f3a"
             ],
             [
              0.8888888888888888,
              "#fdca26"
             ],
             [
              1,
              "#f0f921"
             ]
            ],
            "type": "heatmapgl"
           }
          ],
          "histogram": [
           {
            "marker": {
             "pattern": {
              "fillmode": "overlay",
              "size": 10,
              "solidity": 0.2
             }
            },
            "type": "histogram"
           }
          ],
          "histogram2d": [
           {
            "colorbar": {
             "outlinewidth": 0,
             "ticks": ""
            },
            "colorscale": [
             [
              0,
              "#0d0887"
             ],
             [
              0.1111111111111111,
              "#46039f"
             ],
             [
              0.2222222222222222,
              "#7201a8"
             ],
             [
              0.3333333333333333,
              "#9c179e"
             ],
             [
              0.4444444444444444,
              "#bd3786"
             ],
             [
              0.5555555555555556,
              "#d8576b"
             ],
             [
              0.6666666666666666,
              "#ed7953"
             ],
             [
              0.7777777777777778,
              "#fb9f3a"
             ],
             [
              0.8888888888888888,
              "#fdca26"
             ],
             [
              1,
              "#f0f921"
             ]
            ],
            "type": "histogram2d"
           }
          ],
          "histogram2dcontour": [
           {
            "colorbar": {
             "outlinewidth": 0,
             "ticks": ""
            },
            "colorscale": [
             [
              0,
              "#0d0887"
             ],
             [
              0.1111111111111111,
              "#46039f"
             ],
             [
              0.2222222222222222,
              "#7201a8"
             ],
             [
              0.3333333333333333,
              "#9c179e"
             ],
             [
              0.4444444444444444,
              "#bd3786"
             ],
             [
              0.5555555555555556,
              "#d8576b"
             ],
             [
              0.6666666666666666,
              "#ed7953"
             ],
             [
              0.7777777777777778,
              "#fb9f3a"
             ],
             [
              0.8888888888888888,
              "#fdca26"
             ],
             [
              1,
              "#f0f921"
             ]
            ],
            "type": "histogram2dcontour"
           }
          ],
          "mesh3d": [
           {
            "colorbar": {
             "outlinewidth": 0,
             "ticks": ""
            },
            "type": "mesh3d"
           }
          ],
          "parcoords": [
           {
            "line": {
             "colorbar": {
              "outlinewidth": 0,
              "ticks": ""
             }
            },
            "type": "parcoords"
           }
          ],
          "pie": [
           {
            "automargin": true,
            "type": "pie"
           }
          ],
          "scatter": [
           {
            "fillpattern": {
             "fillmode": "overlay",
             "size": 10,
             "solidity": 0.2
            },
            "type": "scatter"
           }
          ],
          "scatter3d": [
           {
            "line": {
             "colorbar": {
              "outlinewidth": 0,
              "ticks": ""
             }
            },
            "marker": {
             "colorbar": {
              "outlinewidth": 0,
              "ticks": ""
             }
            },
            "type": "scatter3d"
           }
          ],
          "scattercarpet": [
           {
            "marker": {
             "colorbar": {
              "outlinewidth": 0,
              "ticks": ""
             }
            },
            "type": "scattercarpet"
           }
          ],
          "scattergeo": [
           {
            "marker": {
             "colorbar": {
              "outlinewidth": 0,
              "ticks": ""
             }
            },
            "type": "scattergeo"
           }
          ],
          "scattergl": [
           {
            "marker": {
             "colorbar": {
              "outlinewidth": 0,
              "ticks": ""
             }
            },
            "type": "scattergl"
           }
          ],
          "scattermapbox": [
           {
            "marker": {
             "colorbar": {
              "outlinewidth": 0,
              "ticks": ""
             }
            },
            "type": "scattermapbox"
           }
          ],
          "scatterpolar": [
           {
            "marker": {
             "colorbar": {
              "outlinewidth": 0,
              "ticks": ""
             }
            },
            "type": "scatterpolar"
           }
          ],
          "scatterpolargl": [
           {
            "marker": {
             "colorbar": {
              "outlinewidth": 0,
              "ticks": ""
             }
            },
            "type": "scatterpolargl"
           }
          ],
          "scatterternary": [
           {
            "marker": {
             "colorbar": {
              "outlinewidth": 0,
              "ticks": ""
             }
            },
            "type": "scatterternary"
           }
          ],
          "surface": [
           {
            "colorbar": {
             "outlinewidth": 0,
             "ticks": ""
            },
            "colorscale": [
             [
              0,
              "#0d0887"
             ],
             [
              0.1111111111111111,
              "#46039f"
             ],
             [
              0.2222222222222222,
              "#7201a8"
             ],
             [
              0.3333333333333333,
              "#9c179e"
             ],
             [
              0.4444444444444444,
              "#bd3786"
             ],
             [
              0.5555555555555556,
              "#d8576b"
             ],
             [
              0.6666666666666666,
              "#ed7953"
             ],
             [
              0.7777777777777778,
              "#fb9f3a"
             ],
             [
              0.8888888888888888,
              "#fdca26"
             ],
             [
              1,
              "#f0f921"
             ]
            ],
            "type": "surface"
           }
          ],
          "table": [
           {
            "cells": {
             "fill": {
              "color": "#EBF0F8"
             },
             "line": {
              "color": "white"
             }
            },
            "header": {
             "fill": {
              "color": "#C8D4E3"
             },
             "line": {
              "color": "white"
             }
            },
            "type": "table"
           }
          ]
         },
         "layout": {
          "annotationdefaults": {
           "arrowcolor": "#2a3f5f",
           "arrowhead": 0,
           "arrowwidth": 1
          },
          "autotypenumbers": "strict",
          "coloraxis": {
           "colorbar": {
            "outlinewidth": 0,
            "ticks": ""
           }
          },
          "colorscale": {
           "diverging": [
            [
             0,
             "#8e0152"
            ],
            [
             0.1,
             "#c51b7d"
            ],
            [
             0.2,
             "#de77ae"
            ],
            [
             0.3,
             "#f1b6da"
            ],
            [
             0.4,
             "#fde0ef"
            ],
            [
             0.5,
             "#f7f7f7"
            ],
            [
             0.6,
             "#e6f5d0"
            ],
            [
             0.7,
             "#b8e186"
            ],
            [
             0.8,
             "#7fbc41"
            ],
            [
             0.9,
             "#4d9221"
            ],
            [
             1,
             "#276419"
            ]
           ],
           "sequential": [
            [
             0,
             "#0d0887"
            ],
            [
             0.1111111111111111,
             "#46039f"
            ],
            [
             0.2222222222222222,
             "#7201a8"
            ],
            [
             0.3333333333333333,
             "#9c179e"
            ],
            [
             0.4444444444444444,
             "#bd3786"
            ],
            [
             0.5555555555555556,
             "#d8576b"
            ],
            [
             0.6666666666666666,
             "#ed7953"
            ],
            [
             0.7777777777777778,
             "#fb9f3a"
            ],
            [
             0.8888888888888888,
             "#fdca26"
            ],
            [
             1,
             "#f0f921"
            ]
           ],
           "sequentialminus": [
            [
             0,
             "#0d0887"
            ],
            [
             0.1111111111111111,
             "#46039f"
            ],
            [
             0.2222222222222222,
             "#7201a8"
            ],
            [
             0.3333333333333333,
             "#9c179e"
            ],
            [
             0.4444444444444444,
             "#bd3786"
            ],
            [
             0.5555555555555556,
             "#d8576b"
            ],
            [
             0.6666666666666666,
             "#ed7953"
            ],
            [
             0.7777777777777778,
             "#fb9f3a"
            ],
            [
             0.8888888888888888,
             "#fdca26"
            ],
            [
             1,
             "#f0f921"
            ]
           ]
          },
          "colorway": [
           "#636efa",
           "#EF553B",
           "#00cc96",
           "#ab63fa",
           "#FFA15A",
           "#19d3f3",
           "#FF6692",
           "#B6E880",
           "#FF97FF",
           "#FECB52"
          ],
          "font": {
           "color": "#2a3f5f"
          },
          "geo": {
           "bgcolor": "white",
           "lakecolor": "white",
           "landcolor": "#E5ECF6",
           "showlakes": true,
           "showland": true,
           "subunitcolor": "white"
          },
          "hoverlabel": {
           "align": "left"
          },
          "hovermode": "closest",
          "mapbox": {
           "style": "light"
          },
          "paper_bgcolor": "white",
          "plot_bgcolor": "#E5ECF6",
          "polar": {
           "angularaxis": {
            "gridcolor": "white",
            "linecolor": "white",
            "ticks": ""
           },
           "bgcolor": "#E5ECF6",
           "radialaxis": {
            "gridcolor": "white",
            "linecolor": "white",
            "ticks": ""
           }
          },
          "scene": {
           "xaxis": {
            "backgroundcolor": "#E5ECF6",
            "gridcolor": "white",
            "gridwidth": 2,
            "linecolor": "white",
            "showbackground": true,
            "ticks": "",
            "zerolinecolor": "white"
           },
           "yaxis": {
            "backgroundcolor": "#E5ECF6",
            "gridcolor": "white",
            "gridwidth": 2,
            "linecolor": "white",
            "showbackground": true,
            "ticks": "",
            "zerolinecolor": "white"
           },
           "zaxis": {
            "backgroundcolor": "#E5ECF6",
            "gridcolor": "white",
            "gridwidth": 2,
            "linecolor": "white",
            "showbackground": true,
            "ticks": "",
            "zerolinecolor": "white"
           }
          },
          "shapedefaults": {
           "line": {
            "color": "#2a3f5f"
           }
          },
          "ternary": {
           "aaxis": {
            "gridcolor": "white",
            "linecolor": "white",
            "ticks": ""
           },
           "baxis": {
            "gridcolor": "white",
            "linecolor": "white",
            "ticks": ""
           },
           "bgcolor": "#E5ECF6",
           "caxis": {
            "gridcolor": "white",
            "linecolor": "white",
            "ticks": ""
           }
          },
          "title": {
           "x": 0.05
          },
          "xaxis": {
           "automargin": true,
           "gridcolor": "white",
           "linecolor": "white",
           "ticks": "",
           "title": {
            "standoff": 15
           },
           "zerolinecolor": "white",
           "zerolinewidth": 2
          },
          "yaxis": {
           "automargin": true,
           "gridcolor": "white",
           "linecolor": "white",
           "ticks": "",
           "title": {
            "standoff": 15
           },
           "zerolinecolor": "white",
           "zerolinewidth": 2
          }
         }
        },
        "title": {
         "text": "Top 5 Most Common (excluding null): SOFTWARE_SKILLS_NAME"
        },
        "width": 1200,
        "xaxis": {
         "anchor": "y",
         "autorange": true,
         "categoryarray": [
          "[\n  \"SAP Applications\"\n]",
          "[\n  \"Oracle Cloud\"\n]",
          "[\n  \"Microsoft Office\"\n]",
          "[\n  \"Dashboard\"\n]",
          "[\n  \"SQL (Programming Language)\"\n]"
         ],
         "categoryorder": "array",
         "domain": [
          0,
          1
         ],
         "range": [
          -0.5,
          4.5
         ],
         "tickangle": -45,
         "title": {
          "text": "Software Skills Name"
         },
         "type": "category"
        },
        "yaxis": {
         "anchor": "x",
         "autorange": true,
         "domain": [
          0,
          1
         ],
         "range": [
          0,
          1098.9473684210527
         ],
         "title": {
          "text": "Count"
         },
         "type": "linear"
        }
       }
      },
      "image/png": "[encoded data removed]",
      "text/html": [
       "<div>                            <div id=\"87b2a578-75c0-426f-a534-b2cfb90cf6c0\" class=\"plotly-graph-div\" style=\"height:525px; width:1200px;\"></div>            <script type=\"text/javascript\">                require([\"plotly\"], function(Plotly) {                    window.PLOTLYENV=window.PLOTLYENV || {};                                    if (document.getElementById(\"87b2a578-75c0-426f-a534-b2cfb90cf6c0\")) {                    Plotly.newPlot(                        \"87b2a578-75c0-426f-a534-b2cfb90cf6c0\",                        [{\"alignmentgroup\":\"True\",\"hovertemplate\":\"Software Skills Name=%{x}\\u003cbr\\u003eCount=%{y}\\u003cextra\\u003e\\u003c\\u002fextra\\u003e\",\"legendgroup\":\"[\\n  \\\"SAP Applications\\\"\\n]\",\"marker\":{\"color\":\"#636efa\",\"pattern\":{\"shape\":\"\"}},\"name\":\"[\\n  \\\"SAP Applications\\\"\\n]\",\"offsetgroup\":\"[\\n  \\\"SAP Applications\\\"\\n]\",\"orientation\":\"v\",\"showlegend\":true,\"textposition\":\"auto\",\"x\":[\"[\\n  \\\"SAP Applications\\\"\\n]\"],\"xaxis\":\"x\",\"y\":[1044],\"yaxis\":\"y\",\"type\":\"bar\"},{\"alignmentgroup\":\"True\",\"hovertemplate\":\"Software Skills Name=%{x}\\u003cbr\\u003eCount=%{y}\\u003cextra\\u003e\\u003c\\u002fextra\\u003e\",\"legendgroup\":\"[\\n  \\\"Oracle Cloud\\\"\\n]\",\"marker\":{\"color\":\"#EF553B\",\"pattern\":{\"shape\":\"\"}},\"name\":\"[\\n  \\\"Oracle Cloud\\\"\\n]\",\"offsetgroup\":\"[\\n  \\\"Oracle Cloud\\\"\\n]\",\"orientation\":\"v\",\"showlegend\":true,\"textposition\":\"auto\",\"x\":[\"[\\n  \\\"Oracle Cloud\\\"\\n]\"],\"xaxis\":\"x\",\"y\":[811],\"yaxis\":\"y\",\"type\":\"bar\"},{\"alignmentgroup\":\"True\",\"hovertemplate\":\"Software Skills Name=%{x}\\u003cbr\\u003eCount=%{y}\\u003cextra\\u003e\\u003c\\u002fextra\\u003e\",\"legendgroup\":\"[\\n  \\\"Microsoft Office\\\"\\n]\",\"marker\":{\"color\":\"#00cc96\",\"pattern\":{\"shape\":\"\"}},\"name\":\"[\\n  \\\"Microsoft Office\\\"\\n]\",\"offsetgroup\":\"[\\n  \\\"Microsoft Office\\\"\\n]\",\"orientation\":\"v\",\"showlegend\":true,\"textposition\":\"auto\",\"x\":[\"[\\n  \\\"Microsoft Office\\\"\\n]\"],\"xaxis\":\"x\",\"y\":[777],\"yaxis\":\"y\",\"type\":\"bar\"},{\"alignmentgroup\":\"True\",\"hovertemplate\":\"Software Skills Name=%{x}\\u003cbr\\u003eCount=%{y}\\u003cextra\\u003e\\u003c\\u002fextra\\u003e\",\"legendgroup\":\"[\\n  \\\"Dashboard\\\"\\n]\",\"marker\":{\"color\":\"#ab63fa\",\"pattern\":{\"shape\":\"\"}},\"name\":\"[\\n  \\\"Dashboard\\\"\\n]\",\"offsetgroup\":\"[\\n  \\\"Dashboard\\\"\\n]\",\"orientation\":\"v\",\"showlegend\":true,\"textposition\":\"auto\",\"x\":[\"[\\n  \\\"Dashboard\\\"\\n]\"],\"xaxis\":\"x\",\"y\":[503],\"yaxis\":\"y\",\"type\":\"bar\"},{\"alignmentgroup\":\"True\",\"hovertemplate\":\"Software Skills Name=%{x}\\u003cbr\\u003eCount=%{y}\\u003cextra\\u003e\\u003c\\u002fextra\\u003e\",\"legendgroup\":\"[\\n  \\\"SQL (Programming Language)\\\"\\n]\",\"marker\":{\"color\":\"#FFA15A\",\"pattern\":{\"shape\":\"\"}},\"name\":\"[\\n  \\\"SQL (Programming Language)\\\"\\n]\",\"offsetgroup\":\"[\\n  \\\"SQL (Programming Language)\\\"\\n]\",\"orientation\":\"v\",\"showlegend\":true,\"textposition\":\"auto\",\"x\":[\"[\\n  \\\"SQL (Programming Language)\\\"\\n]\"],\"xaxis\":\"x\",\"y\":[444],\"yaxis\":\"y\",\"type\":\"bar\"}],                        {\"template\":{\"data\":{\"histogram2dcontour\":[{\"type\":\"histogram2dcontour\",\"colorbar\":{\"outlinewidth\":0,\"ticks\":\"\"},\"colorscale\":[[0.0,\"#0d0887\"],[0.1111111111111111,\"#46039f\"],[0.2222222222222222,\"#7201a8\"],[0.3333333333333333,\"#9c179e\"],[0.4444444444444444,\"#bd3786\"],[0.5555555555555556,\"#d8576b\"],[0.6666666666666666,\"#ed7953\"],[0.7777777777777778,\"#fb9f3a\"],[0.8888888888888888,\"#fdca26\"],[1.0,\"#f0f921\"]]}],\"choropleth\":[{\"type\":\"choropleth\",\"colorbar\":{\"outlinewidth\":0,\"ticks\":\"\"}}],\"histogram2d\":[{\"type\":\"histogram2d\",\"colorbar\":{\"outlinewidth\":0,\"ticks\":\"\"},\"colorscale\":[[0.0,\"#0d0887\"],[0.1111111111111111,\"#46039f\"],[0.2222222222222222,\"#7201a8\"],[0.3333333333333333,\"#9c179e\"],[0.4444444444444444,\"#bd3786\"],[0.5555555555555556,\"#d8576b\"],[0.6666666666666666,\"#ed7953\"],[0.7777777777777778,\"#fb9f3a\"],[0.8888888888888888,\"#fdca26\"],[1.0,\"#f0f921\"]]}],\"heatmap\":[{\"type\":\"heatmap\",\"colorbar\":{\"outlinewidth\":0,\"ticks\":\"\"},\"colorscale\":[[0.0,\"#0d0887\"],[0.1111111111111111,\"#46039f\"],[0.2222222222222222,\"#7201a8\"],[0.3333333333333333,\"#9c179e\"],[0.4444444444444444,\"#bd3786\"],[0.5555555555555556,\"#d8576b\"],[0.6666666666666666,\"#ed7953\"],[0.7777777777777778,\"#fb9f3a\"],[0.8888888888888888,\"#fdca26\"],[1.0,\"#f0f921\"]]}],\"heatmapgl\":[{\"type\":\"heatmapgl\",\"colorbar\":{\"outlinewidth\":0,\"ticks\":\"\"},\"colorscale\":[[0.0,\"#0d0887\"],[0.1111111111111111,\"#46039f\"],[0.2222222222222222,\"#7201a8\"],[0.3333333333333333,\"#9c179e\"],[0.4444444444444444,\"#bd3786\"],[0.5555555555555556,\"#d8576b\"],[0.6666666666666666,\"#ed7953\"],[0.7777777777777778,\"#fb9f3a\"],[0.8888888888888888,\"#fdca26\"],[1.0,\"#f0f921\"]]}],\"contourcarpet\":[{\"type\":\"contourcarpet\",\"colorbar\":{\"outlinewidth\":0,\"ticks\":\"\"}}],\"contour\":[{\"type\":\"contour\",\"colorbar\":{\"outlinewidth\":0,\"ticks\":\"\"},\"colorscale\":[[0.0,\"#0d0887\"],[0.1111111111111111,\"#46039f\"],[0.2222222222222222,\"#7201a8\"],[0.3333333333333333,\"#9c179e\"],[0.4444444444444444,\"#bd3786\"],[0.5555555555555556,\"#d8576b\"],[0.6666666666666666,\"#ed7953\"],[0.7777777777777778,\"#fb9f3a\"],[0.8888888888888888,\"#fdca26\"],[1.0,\"#f0f921\"]]}],\"surface\":[{\"type\":\"surface\",\"colorbar\":{\"outlinewidth\":0,\"ticks\":\"\"},\"colorscale\":[[0.0,\"#0d0887\"],[0.1111111111111111,\"#46039f\"],[0.2222222222222222,\"#7201a8\"],[0.3333333333333333,\"#9c179e\"],[0.4444444444444444,\"#bd3786\"],[0.5555555555555556,\"#d8576b\"],[0.6666666666666666,\"#ed7953\"],[0.7777777777777778,\"#fb9f3a\"],[0.8888888888888888,\"#fdca26\"],[1.0,\"#f0f921\"]]}],\"mesh3d\":[{\"type\":\"mesh3d\",\"colorbar\":{\"outlinewidth\":0,\"ticks\":\"\"}}],\"scatter\":[{\"fillpattern\":{\"fillmode\":\"overlay\",\"size\":10,\"solidity\":0.2},\"type\":\"scatter\"}],\"parcoords\":[{\"type\":\"parcoords\",\"line\":{\"colorbar\":{\"outlinewidth\":0,\"ticks\":\"\"}}}],\"scatterpolargl\":[{\"type\":\"scatterpolargl\",\"marker\":{\"colorbar\":{\"outlinewidth\":0,\"ticks\":\"\"}}}],\"bar\":[{\"error_x\":{\"color\":\"#2a3f5f\"},\"error_y\":{\"color\":\"#2a3f5f\"},\"marker\":{\"line\":{\"color\":\"#E5ECF6\",\"width\":0.5},\"pattern\":{\"fillmode\":\"overlay\",\"size\":10,\"solidity\":0.2}},\"type\":\"bar\"}],\"scattergeo\":[{\"type\":\"scattergeo\",\"marker\":{\"colorbar\":{\"outlinewidth\":0,\"ticks\":\"\"}}}],\"scatterpolar\":[{\"type\":\"scatterpolar\",\"marker\":{\"colorbar\":{\"outlinewidth\":0,\"ticks\":\"\"}}}],\"histogram\":[{\"marker\":{\"pattern\":{\"fillmode\":\"overlay\",\"size\":10,\"solidity\":0.2}},\"type\":\"histogram\"}],\"scattergl\":[{\"type\":\"scattergl\",\"marker\":{\"colorbar\":{\"outlinewidth\":0,\"ticks\":\"\"}}}],\"scatter3d\":[{\"type\":\"scatter3d\",\"line\":{\"colorbar\":{\"outlinewidth\":0,\"ticks\":\"\"}},\"marker\":{\"colorbar\":{\"outlinewidth\":0,\"ticks\":\"\"}}}],\"scattermapbox\":[{\"type\":\"scattermapbox\",\"marker\":{\"colorbar\":{\"outlinewidth\":0,\"ticks\":\"\"}}}],\"scatterternary\":[{\"type\":\"scatterternary\",\"marker\":{\"colorbar\":{\"outlinewidth\":0,\"ticks\":\"\"}}}],\"scattercarpet\":[{\"type\":\"scattercarpet\",\"marker\":{\"colorbar\":{\"outlinewidth\":0,\"ticks\":\"\"}}}],\"carpet\":[{\"aaxis\":{\"endlinecolor\":\"#2a3f5f\",\"gridcolor\":\"white\",\"linecolor\":\"white\",\"minorgridcolor\":\"white\",\"startlinecolor\":\"#2a3f5f\"},\"baxis\":{\"endlinecolor\":\"#2a3f5f\",\"gridcolor\":\"white\",\"linecolor\":\"white\",\"minorgridcolor\":\"white\",\"startlinecolor\":\"#2a3f5f\"},\"type\":\"carpet\"}],\"table\":[{\"cells\":{\"fill\":{\"color\":\"#EBF0F8\"},\"line\":{\"color\":\"white\"}},\"header\":{\"fill\":{\"color\":\"#C8D4E3\"},\"line\":{\"color\":\"white\"}},\"type\":\"table\"}],\"barpolar\":[{\"marker\":{\"line\":{\"color\":\"#E5ECF6\",\"width\":0.5},\"pattern\":{\"fillmode\":\"overlay\",\"size\":10,\"solidity\":0.2}},\"type\":\"barpolar\"}],\"pie\":[{\"automargin\":true,\"type\":\"pie\"}]},\"layout\":{\"autotypenumbers\":\"strict\",\"colorway\":[\"#636efa\",\"#EF553B\",\"#00cc96\",\"#ab63fa\",\"#FFA15A\",\"#19d3f3\",\"#FF6692\",\"#B6E880\",\"#FF97FF\",\"#FECB52\"],\"font\":{\"color\":\"#2a3f5f\"},\"hovermode\":\"closest\",\"hoverlabel\":{\"align\":\"left\"},\"paper_bgcolor\":\"white\",\"plot_bgcolor\":\"#E5ECF6\",\"polar\":{\"bgcolor\":\"#E5ECF6\",\"angularaxis\":{\"gridcolor\":\"white\",\"linecolor\":\"white\",\"ticks\":\"\"},\"radialaxis\":{\"gridcolor\":\"white\",\"linecolor\":\"white\",\"ticks\":\"\"}},\"ternary\":{\"bgcolor\":\"#E5ECF6\",\"aaxis\":{\"gridcolor\":\"white\",\"linecolor\":\"white\",\"ticks\":\"\"},\"baxis\":{\"gridcolor\":\"white\",\"linecolor\":\"white\",\"ticks\":\"\"},\"caxis\":{\"gridcolor\":\"white\",\"linecolor\":\"white\",\"ticks\":\"\"}},\"coloraxis\":{\"colorbar\":{\"outlinewidth\":0,\"ticks\":\"\"}},\"colorscale\":{\"sequential\":[[0.0,\"#0d0887\"],[0.1111111111111111,\"#46039f\"],[0.2222222222222222,\"#7201a8\"],[0.3333333333333333,\"#9c179e\"],[0.4444444444444444,\"#bd3786\"],[0.5555555555555556,\"#d8576b\"],[0.6666666666666666,\"#ed7953\"],[0.7777777777777778,\"#fb9f3a\"],[0.8888888888888888,\"#fdca26\"],[1.0,\"#f0f921\"]],\"sequentialminus\":[[0.0,\"#0d0887\"],[0.1111111111111111,\"#46039f\"],[0.2222222222222222,\"#7201a8\"],[0.3333333333333333,\"#9c179e\"],[0.4444444444444444,\"#bd3786\"],[0.5555555555555556,\"#d8576b\"],[0.6666666666666666,\"#ed7953\"],[0.7777777777777778,\"#fb9f3a\"],[0.8888888888888888,\"#fdca26\"],[1.0,\"#f0f921\"]],\"diverging\":[[0,\"#8e0152\"],[0.1,\"#c51b7d\"],[0.2,\"#de77ae\"],[0.3,\"#f1b6da\"],[0.4,\"#fde0ef\"],[0.5,\"#f7f7f7\"],[0.6,\"#e6f5d0\"],[0.7,\"#b8e186\"],[0.8,\"#7fbc41\"],[0.9,\"#4d9221\"],[1,\"#276419\"]]},\"xaxis\":{\"gridcolor\":\"white\",\"linecolor\":\"white\",\"ticks\":\"\",\"title\":{\"standoff\":15},\"zerolinecolor\":\"white\",\"automargin\":true,\"zerolinewidth\":2},\"yaxis\":{\"gridcolor\":\"white\",\"linecolor\":\"white\",\"ticks\":\"\",\"title\":{\"standoff\":15},\"zerolinecolor\":\"white\",\"automargin\":true,\"zerolinewidth\":2},\"scene\":{\"xaxis\":{\"backgroundcolor\":\"#E5ECF6\",\"gridcolor\":\"white\",\"linecolor\":\"white\",\"showbackground\":true,\"ticks\":\"\",\"zerolinecolor\":\"white\",\"gridwidth\":2},\"yaxis\":{\"backgroundcolor\":\"#E5ECF6\",\"gridcolor\":\"white\",\"linecolor\":\"white\",\"showbackground\":true,\"ticks\":\"\",\"zerolinecolor\":\"white\",\"gridwidth\":2},\"zaxis\":{\"backgroundcolor\":\"#E5ECF6\",\"gridcolor\":\"white\",\"linecolor\":\"white\",\"showbackground\":true,\"ticks\":\"\",\"zerolinecolor\":\"white\",\"gridwidth\":2}},\"shapedefaults\":{\"line\":{\"color\":\"#2a3f5f\"}},\"annotationdefaults\":{\"arrowcolor\":\"#2a3f5f\",\"arrowhead\":0,\"arrowwidth\":1},\"geo\":{\"bgcolor\":\"white\",\"landcolor\":\"#E5ECF6\",\"subunitcolor\":\"white\",\"showland\":true,\"showlakes\":true,\"lakecolor\":\"white\"},\"title\":{\"x\":0.05},\"mapbox\":{\"style\":\"light\"}}},\"xaxis\":{\"anchor\":\"y\",\"domain\":[0.0,1.0],\"title\":{\"text\":\"Software Skills Name\"},\"categoryorder\":\"array\",\"categoryarray\":[\"[\\n  \\\"SAP Applications\\\"\\n]\",\"[\\n  \\\"Oracle Cloud\\\"\\n]\",\"[\\n  \\\"Microsoft Office\\\"\\n]\",\"[\\n  \\\"Dashboard\\\"\\n]\",\"[\\n  \\\"SQL (Programming Language)\\\"\\n]\"],\"tickangle\":-45},\"yaxis\":{\"anchor\":\"x\",\"domain\":[0.0,1.0],\"title\":{\"text\":\"Count\"}},\"legend\":{\"title\":{\"text\":\"Software Skills Name\"},\"tracegroupgap\":0},\"title\":{\"text\":\"Top 5 Most Common (excluding null): SOFTWARE_SKILLS_NAME\"},\"barmode\":\"relative\",\"margin\":{\"b\":150},\"width\":1200,\"showlegend\":false},                        {\"responsive\": true}                    ).then(function(){\n",
       "                            \n",
       "var gd = document.getElementById('87b2a578-75c0-426f-a534-b2cfb90cf6c0');\n",
       "var x = new MutationObserver(function (mutations, observer) {{\n",
       "        var display = window.getComputedStyle(gd).display;\n",
       "        if (!display || display === 'none') {{\n",
       "            console.log([gd, 'removed!']);\n",
       "            Plotly.purge(gd);\n",
       "            observer.disconnect();\n",
       "        }}\n",
       "}});\n",
       "\n",
       "// Listen for the removal of the full notebook cells\n",
       "var notebookContainer = gd.closest('#notebook-container');\n",
       "if (notebookContainer) {{\n",
       "    x.observe(notebookContainer, {childList: true});\n",
       "}}\n",
       "\n",
       "// Listen for the clearing of the current output cell\n",
       "var outputEl = gd.closest('.output');\n",
       "if (outputEl) {{\n",
       "    x.observe(outputEl, {childList: true});\n",
       "}}\n",
       "\n",
       "                        })                };                });            </script>        </div>"
      ]
     },
     "metadata": {},
     "output_type": "display_data"
    }
   ],
   "source": [
    "plots['SOFTWARE_SKILLS_NAME'].show()"
   ]
  },
  {
   "cell_type": "code",
   "execution_count": 29,
   "id": "e0d521bf-ee84-4ad4-83d9-938e9a4c2ae3",
   "metadata": {},
   "outputs": [],
   "source": [
    "skills_full = (\n",
    "    Jobs_cleaned\n",
    "    .filter(pl.col('SKILLS_NAME').is_not_null() & (pl.col('SKILLS_NAME') != '[]') & (pl.col('SKILLS_NAME') != ''))\n",
    "    .group_by('SKILLS_NAME')\n",
    "    .agg(pl.len().alias('count'))\n",
    "    .sort('count', descending=True)\n",
    "    .select(['SKILLS_NAME', 'count'])\n",
    ")\n",
    "\n",
    "skills_full_list = skills_full['SKILLS_NAME'].to_list()"
   ]
  },
  {
   "cell_type": "code",
   "execution_count": 30,
   "id": "fddd85d8-b651-47a3-9690-67f45f56933b",
   "metadata": {},
   "outputs": [
    {
     "name": "stdout",
     "output_type": "stream",
     "text": [
      "[\n",
      "  \"User Experience (UX) Design\",\n",
      "  \"Project Management\",\n",
      "  \"Cyber Security\",\n",
      "  \"Technical Support\",\n",
      "  \"Data Analysis\"\n",
      "]\n",
      "[\n",
      "  \"Cloud Computing\",\n",
      "  \"Enterprise Resource Planning\",\n",
      "  \"Workflow Management\",\n",
      "  \"Gap Analysis\",\n",
      "  \"Durable Goods\",\n",
      "  \"Agile Methodology\",\n",
      "  \"Planning\",\n",
      "  \"Business Process Reengineering\",\n",
      "  \"OneStream (CPM Software)\",\n",
      "  \"Integrated Business Planning\",\n",
      "  \"Analytical Skills\",\n",
      "  \"Data Engineering\",\n",
      "  \"Functional Specification\",\n",
      "  \"Finance\",\n",
      "  \"Standard Operating Procedure\",\n",
      "  \"Systems Development Life Cycle\",\n",
      "  \"Data Integration\",\n",
      "  \"Information Systems\",\n",
      "  \"Test Planning\",\n",
      "  \"Supply Chain\",\n",
      "  \"User Acceptance Testing (UAT)\",\n",
      "  \"SAP Applications\",\n",
      "  \"Business Requirements\",\n",
      "  \"Organizational Strategy\",\n",
      "  \"Operations\",\n",
      "  \"Writing\",\n",
      "  \"Business To Business\",\n",
      "  \"Information Gathering\",\n",
      "  \"Technical Documentation\",\n",
      "  \"Project Planning\",\n",
      "  \"Anaplan\",\n",
      "  \"Software As A Service (SaaS)\",\n",
      "  \"Software Development\",\n",
      "  \"Business Planning\",\n",
      "  \"Business Strategies\",\n",
      "  \"Computer Science\"\n",
      "]\n",
      "[\n",
      "  \"Pivot Tables And Charts\",\n",
      "  \"Business Objectives\",\n",
      "  \"Customer Service\",\n",
      "  \"Presentations\",\n",
      "  \"Forecasting\",\n",
      "  \"Communication\",\n",
      "  \"Empathy\",\n",
      "  \"Continuous Improvement Process\",\n",
      "  \"Planning\",\n",
      "  \"Performance Management\",\n",
      "  \"Utilization Management\",\n",
      "  \"Data Management\",\n",
      "  \"Data Architecture\",\n",
      "  \"Finance\",\n",
      "  \"Ability To Meet Deadlines\",\n",
      "  \"Data Manipulation\",\n",
      "  \"Patience\",\n",
      "  \"Python (Programming Language)\",\n",
      "  \"Time Management\",\n",
      "  \"Leadership\",\n",
      "  \"Statistics\",\n",
      "  \"Call Center Experience\",\n",
      "  \"Visual Basic For Applications\",\n",
      "  \"Operations\",\n",
      "  \"SQL (Programming Language)\",\n",
      "  \"Excel Macros\",\n",
      "  \"Service Level\",\n",
      "  \"Workforce Management\",\n",
      "  \"Business Administration\",\n",
      "  \"Kronos (Timekeeping Software)\",\n",
      "  \"Innovation\",\n",
      "  \"Team Performance Management\",\n",
      "  \"Descriptive Analytics\",\n",
      "  \"Tableau (Business Intelligence Software)\"\n",
      "]\n",
      "[\n",
      "  \"Data Analysis\"\n",
      "]\n",
      "[\n",
      "  \"Management\",\n",
      "  \"Microsoft Access\",\n",
      "  \"Data Reporting\",\n",
      "  \"Data Warehousing\",\n",
      "  \"Microsoft PowerPoint\",\n",
      "  \"Finance\",\n",
      "  \"Self Service Technologies\",\n",
      "  \"Dashboard\",\n",
      "  \"Primary Care\",\n",
      "  \"Managed Care\",\n",
      "  \"Mathematics\",\n",
      "  \"Statistics\",\n",
      "  \"Preventive Care\",\n",
      "  \"Organizational Strategy\",\n",
      "  \"SQL (Programming Language)\",\n",
      "  \"Organizational Skills\",\n",
      "  \"Microsoft Excel\",\n",
      "  \"SAS (Software)\",\n",
      "  \"Chronic Diseases\",\n",
      "  \"Ad Hoc Reporting\",\n",
      "  \"Microsoft Office\",\n",
      "  \"Economics\",\n",
      "  \"QlikView (Data Analytics Software)\",\n",
      "  \"Tableau (Business Intelligence Software)\",\n",
      "  \"Computer Science\",\n",
      "  \"User Information\"\n",
      "]\n"
     ]
    }
   ],
   "source": [
    "for skill in skills_full_list[:5]:\n",
    "    print(skill)"
   ]
  },
  {
   "cell_type": "code",
   "execution_count": null,
   "id": "aefb7cd5-2c1f-4544-8053-69ddb56bbf68",
   "metadata": {},
   "outputs": [],
   "source": []
  }
 ],
 "metadata": {
  "kernelspec": {
   "display_name": "Python 3 (ipykernel)",
   "language": "python",
   "name": "python3"
  },
  "language_info": {
   "codemirror_mode": {
    "name": "ipython",
    "version": 3
   },
   "file_extension": ".py",
   "mimetype": "text/x-python",
   "name": "python",
   "nbconvert_exporter": "python",
   "pygments_lexer": "ipython3",
   "version": "3.12.4"
  }
 },
 "nbformat": 4,
 "nbformat_minor": 5
}

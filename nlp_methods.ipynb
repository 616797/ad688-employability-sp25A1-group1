{
 "cells": [
  {
   "cell_type": "markdown",
   "id": "b8f791b2",
   "metadata": {},
   "source": [
    "# **Natural Language Processing (NLP) Methods**"
   ]
  }
 ],
 "metadata": {
  "language_info": {
   "name": "python"
  }
 },
 "nbformat": 4,
 "nbformat_minor": 5
}

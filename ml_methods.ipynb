{
 "cells": [
  {
   "cell_type": "markdown",
   "id": "34825d2c",
   "metadata": {},
   "source": [
    "# **Machine Learning (ML) Methods**"
   ]
  },
  {
   "cell_type": "markdown",
   "id": "0e66f535",
   "metadata": {},
   "source": [
    "**Unsupervised Learning**\n",
    "\n",
    "**KMeans clustering**"
   ]
  },
  {
   "cell_type": "code",
   "execution_count": null,
   "id": "ee1d86c5",
   "metadata": {},
   "outputs": [],
   "source": [
    "# Load your data\n",
    "df = pd.read_csv(\"lightcast_job_postings.csv\")"
   ]
  },
  {
   "cell_type": "markdown",
   "id": "35f1c2e1",
   "metadata": {},
   "source": [
    "**Clean and Preparing Reference Label Columns**"
   ]
  },
  {
   "cell_type": "code",
   "execution_count": 7,
   "id": "c16c9c7a",
   "metadata": {},
   "outputs": [],
   "source": [
    "# 1. Imports\n",
    "import pandas as pd\n",
    "from sklearn.feature_extraction.text import TfidfVectorizer\n",
    "from sklearn.preprocessing import StandardScaler\n",
    "from sklearn.cluster import KMeans\n",
    "from sklearn.metrics import adjusted_rand_score, normalized_mutual_info_score, silhouette_score"
   ]
  },
  {
   "cell_type": "code",
   "execution_count": 26,
   "metadata": {},
   "outputs": [],
   "source": [
    "# Combine fields\n",
    "df['TITLE_CLEAN'] = df['TITLE_CLEAN'].fillna('unknown').astype(str).str.strip().str.lower()\n",
    "df['SOFTWARE_SKILLS_NAME'] = df['SOFTWARE_SKILLS_NAME'].fillna('').astype(str).str.lower()\n",
    "df['ONET_NAME'] = df['ONET_NAME'].fillna('').astype(str).str.lower()\n",
    "df['BODY'] = df['BODY'].fillna('').astype(str).str.lower()\n",
    "# Combine text fields for TF-IDF\n",
    "df['combined_text'] = df['TITLE_CLEAN'] + ' ' + df['SOFTWARE_SKILLS_NAME'] + ' ' + df['ONET_NAME'] + ' ' + df['BODY']"
   ]
  },
  {
   "cell_type": "code",
   "execution_count": 27,
   "id": "c0f127d3",
   "metadata": {},
   "outputs": [],
   "source": [
    "from sklearn.feature_extraction.text import TfidfVectorizer\n",
    "from sklearn.preprocessing import StandardScaler\n",
    "from sklearn.cluster import KMeans\n",
    "from sklearn.metrics import adjusted_rand_score, normalized_mutual_info_score, silhouette_score\n",
    "\n",
    "# Vectorize\n",
    "tfidf = TfidfVectorizer(max_features=1000, stop_words='english')\n",
    "X_tfidf = tfidf.fit_transform(df['combined_text']).toarray()\n",
    "\n",
    "# Scale\n",
    "scaler = StandardScaler()\n",
    "X_scaled = scaler.fit_transform(X_tfidf)"
   ]
  },
  {
   "cell_type": "code",
   "execution_count": null,
   "metadata": {},
   "outputs": [],
   "source": [
    "# KMeans\n",
    "optimal_k = 3\n",
    "kmeans = KMeans(n_clusters=optimal_k, random_state=42)\n",
    "df['cluster'] = kmeans.fit_predict(X_scaled)\n",
    "\n",
    "# Evaluation\n",
    "reference_label = 'NAICS2_NAME'  # Try all 3 and compare\n",
    "df_eval = df[[reference_label, 'cluster']].dropna()\n",
    "ari = adjusted_rand_score(df_eval[reference_label], df_eval['cluster'])\n",
    "nmi = normalized_mutual_info_score(df_eval[reference_label], df_eval['cluster'])\n",
    "# sil_score = silhouette_score(X_scaled, df['cluster'])\n",
    "\n",
    "print(f\"Adjusted Rand Index ({reference_label}): {ari:.3f}\")\n",
    "print(f\"Normalized Mutual Info Score ({reference_label}): {nmi:.3f}\")\n",
    "# print(f\"Silhouette Score: {sil_score:.3f}\")\n"
   ]
  },
  {
   "cell_type": "code",
   "execution_count": null,
   "metadata": {},
   "outputs": [],
   "source": []
  },
  {
   "cell_type": "markdown",
   "id": "6b44b822",
   "metadata": {},
   "source": [
    "**TF-IDF Based Clustering (Bonus)**"
   ]
  },
  {
   "cell_type": "code",
   "execution_count": 13,
   "id": "56508dc1",
   "metadata": {},
   "outputs": [],
   "source": [
    "from sklearn.feature_extraction.text import TfidfVectorizer\n",
    "from sklearn.cluster import KMeans\n",
    "\n",
    "# Use job descriptions or skills (cleaned text column)\n",
    "corpus = df['BODY'].fillna('')  # or use 'TITLE_RAW' or 'SKILLS_NAME'\n",
    "\n",
    "# TF-IDF Vectorization\n",
    "vectorizer = TfidfVectorizer(max_features=1000, stop_words='english')\n",
    "X_tfidf = vectorizer.fit_transform(corpus)\n",
    "\n",
    "# KMeans Clustering\n",
    "kmeans = KMeans(n_clusters=3, random_state=42)\n",
    "tfidf_labels = kmeans.fit_predict(X_tfidf)\n",
    "\n",
    "# Add cluster labels\n",
    "df['TFIDF_Cluster'] = tfidf_labels"
   ]
  },
  {
   "cell_type": "markdown",
   "id": "2c2d57b2",
   "metadata": {},
   "source": [
    "**TF-IDF Vectorization**"
   ]
  },
  {
   "cell_type": "code",
   "execution_count": 14,
   "id": "3ddfa736",
   "metadata": {},
   "outputs": [],
   "source": [
    "from sklearn.feature_extraction.text import TfidfVectorizer\n",
    "\n",
    "# Use 'BODY' as the text source (fallback to 'TITLE_RAW' if BODY is too sparse)\n",
    "df['TITLE_CLEAN'] = df['TITLE_CLEAN'].fillna('')\n",
    "\n",
    "vectorizer = TfidfVectorizer(\n",
    "    max_features=1000,\n",
    "    stop_words='english',\n",
    "    ngram_range=(2, 2),  # bigrams\n",
    "    min_df=5\n",
    ")\n",
    "X_tfidf = vectorizer.fit_transform(df['TITLE_CLEAN'])"
   ]
  },
  {
   "cell_type": "markdown",
   "id": "7875923a",
   "metadata": {},
   "source": [
    "**KMeans Clustering on TF-IDF**"
   ]
  },
  {
   "cell_type": "code",
   "execution_count": 15,
   "id": "b25f369c",
   "metadata": {},
   "outputs": [],
   "source": [
    "from sklearn.cluster import KMeans\n",
    "\n",
    "k_tfidf = 3  # or test different values like before\n",
    "kmeans_tfidf = KMeans(n_clusters=k_tfidf, random_state=42)\n",
    "df['TFIDF_Cluster'] = kmeans_tfidf.fit_predict(X_tfidf)"
   ]
  },
  {
   "cell_type": "markdown",
   "id": "fae2b783",
   "metadata": {},
   "source": [
    "**Top Terms per Cluster**"
   ]
  },
  {
   "cell_type": "code",
   "execution_count": null,
   "id": "e4193af6",
   "metadata": {},
   "outputs": [],
   "source": [
    "exclude = {'experience', 'work', 'job'}\n",
    "terms = vectorizer.get_feature_names_out()\n",
    "order_centroids = kmeans_tfidf.cluster_centers_.argsort()[:, ::-1]\n",
    "\n",
    "for i in range(k_tfidf):\n",
    "    filtered = [terms[ind] for ind in order_centroids[i]\n",
    "                if terms[ind] not in exclude][:10]\n",
    "    print(f\"Cluster {i} top filtered terms: {', '.join(filtered)}\")\n"
   ]
  },
  {
   "cell_type": "markdown",
   "id": "b31b44d9",
   "metadata": {},
   "source": [
    "**Visualize TF-IDF Clusters**"
   ]
  },
  {
   "cell_type": "code",
   "execution_count": null,
   "id": "13f84640",
   "metadata": {},
   "outputs": [],
   "source": [
    "import seaborn as sns\n",
    "import matplotlib.pyplot as plt\n",
    "\n",
    "# Plot salary by TFIDF cluster\n",
    "plt.figure(figsize=(8, 5))\n",
    "sns.boxplot(data=df, x='TFIDF_Cluster', y='SALARY_AVG')\n",
    "plt.title('Salary Distribution by TFIDF Cluster')\n",
    "plt.xlabel('TFIDF Cluster')\n",
    "plt.ylabel('Average Salary')\n",
    "plt.show()"
   ]
  },
  {
   "cell_type": "markdown",
   "id": "0e0e0b9c",
   "metadata": {},
   "source": [
    "**Industry Distribution in TF-IDF Clusters**"
   ]
  },
  {
   "cell_type": "code",
   "execution_count": null,
   "id": "b1c61c44",
   "metadata": {},
   "outputs": [],
   "source": [
    "# Step 1: Compute normalized cluster distribution per industry\n",
    "industry_cluster = (\n",
    "    df.groupby(['NAICS_2022_6_NAME', 'TFIDF_Cluster'])\n",
    "    .size()\n",
    "    .unstack(fill_value=0)\n",
    ")\n",
    "\n",
    "# Step 2: Normalize by industry (row-wise proportions)\n",
    "industry_cluster_normalized = industry_cluster.div(industry_cluster.sum(axis=1), axis=0)\n",
    "\n",
    "# Step 3: Filter top industries by total count (optional but recommended for clarity)\n",
    "top_industries = df['NAICS_2022_6_NAME'].value_counts().head(25).index\n",
    "filtered = industry_cluster_normalized.loc[top_industries]\n",
    "\n",
    "# Step 4: Plot heatmap\n",
    "plt.figure(figsize=(14, 10))\n",
    "sns.heatmap(filtered, cmap='viridis', annot=True, fmt=\".2f\", linewidths=0.5)\n",
    "plt.title(\"Normalized TF-IDF Cluster Distribution by Industry\")\n",
    "plt.xlabel(\"TF-IDF Cluster\")\n",
    "plt.ylabel(\"Industry (NAICS Level 6)\")\n",
    "plt.tight_layout()\n",
    "plt.show()"
   ]
  },
  {
   "cell_type": "code",
   "execution_count": null,
   "id": "e5debc3a",
   "metadata": {},
   "outputs": [],
   "source": []
  },
  {
   "cell_type": "code",
   "execution_count": null,
   "id": "10f9157c",
   "metadata": {},
   "outputs": [],
   "source": []
  },
  {
   "cell_type": "code",
   "execution_count": null,
   "id": "6e46447d",
   "metadata": {},
   "outputs": [],
   "source": []
  },
  {
   "cell_type": "code",
   "execution_count": null,
   "metadata": {},
   "outputs": [],
   "source": []
  },
  {
   "cell_type": "code",
   "execution_count": null,
   "id": "cf23f999",
   "metadata": {},
   "outputs": [],
   "source": []
  },
  {
   "cell_type": "code",
   "execution_count": null,
   "id": "38e9579a",
   "metadata": {},
   "outputs": [],
   "source": []
  },
  {
   "cell_type": "code",
   "execution_count": null,
   "id": "41112f0d",
   "metadata": {},
   "outputs": [],
   "source": []
  }
 ],
 "metadata": {
  "language_info": {
   "name": "python"
  }
 },
 "nbformat": 4,
 "nbformat_minor": 5
}

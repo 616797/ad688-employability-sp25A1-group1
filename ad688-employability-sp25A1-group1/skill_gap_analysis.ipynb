{
 "cells": [
  {
   "cell_type": "markdown",
   "id": "1dd2dc89",
   "metadata": {},
   "source": [
    "# **Skill Gap Analysis**"
   ]
  }
 ],
 "metadata": {
  "language_info": {
   "name": "python"
  }
 },
 "nbformat": 4,
 "nbformat_minor": 5
}
